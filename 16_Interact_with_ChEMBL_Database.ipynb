{
 "cells": [
  {
   "cell_type": "markdown",
   "metadata": {
    "vscode": {
     "languageId": "plaintext"
    }
   },
   "source": [
    "# Interacting with ChEMBL database\n",
    "\n",
    "Many a times during lead optimisation projects, one has to look into the ChEMBL bioactivity database to retrieve compounds with reported assay data against a target to build a ML model to predict such activity for potentially new compounds.\n",
    "\n",
    "In this notebook, I will show how to interact with the ChEMBL database to retrieve SAR data"
   ]
  },
  {
   "cell_type": "code",
   "execution_count": 1,
   "metadata": {},
   "outputs": [],
   "source": [
    "import re\n",
    "\n",
    "import chembl_downloader\n",
    "import pandas as pd\n",
    "import scikit_posthocs as sp\n",
    "import seaborn as sns\n",
    "import useful_rdkit_utils as uru\n",
    "from rdkit import Chem\n",
    "from rdkit.Chem.Draw import MolsToGridImage\n",
    "from rdkit.Chem.MolStandardize import rdMolStandardize\n",
    "from rdkit.rdBase import BlockLogs\n",
    "from tqdm.auto import tqdm\n",
    "# Enable progress bars in Pandas\n",
    "tqdm.pandas()"
   ]
  },
  {
   "cell_type": "markdown",
   "metadata": {},
   "source": [
    "# Download entire ChEMBL database locally"
   ]
  },
  {
   "cell_type": "code",
   "execution_count": 2,
   "metadata": {},
   "outputs": [
    {
     "data": {
      "application/vnd.jupyter.widget-view+json": {
       "model_id": "20b113f97052464bb39b8d7997219db9",
       "version_major": 2,
       "version_minor": 0
      },
      "text/plain": [
       "Downloading chembl_35_sqlite.tar.gz: 0.00B [00:00, ?B/s]"
      ]
     },
     "metadata": {},
     "output_type": "display_data"
    },
    {
     "name": "stdout",
     "output_type": "stream",
     "text": [
      "/Users/ganeshshahane/.data/chembl/35/data/chembl_35/chembl_35_sqlite/chembl_35.db\n"
     ]
    }
   ],
   "source": [
    "path = chembl_downloader.download_extract_sqlite()\n",
    "print(path)"
   ]
  },
  {
   "cell_type": "markdown",
   "metadata": {},
   "source": [
    "# Find binding data for a target\n",
    "\n",
    "In order the fetch the binding assay data for a particular target protein, its ```target_chembl_id``` needs to be known. This can be figured out by simply typing in the name of the target inside the search box of [ChEMBL](https://www.ebi.ac.uk/chembl/). Once you have typed in the full name, select the suggestion of the protein under ```Targets``` label. Then the main page of the target will display the ```target_chembl_id``` of your target protein.\n",
    "\n",
    "In the following example, I will fetch binding assay data for KRAS GTPase:"
   ]
  },
  {
   "cell_type": "code",
   "execution_count": 3,
   "metadata": {},
   "outputs": [
    {
     "name": "stdout",
     "output_type": "stream",
     "text": [
      "There are 2110 Kras inhibitors in ChEMBL\n"
     ]
    }
   ],
   "source": [
    "from chembl_webresource_client.new_client import new_client\n",
    "\n",
    "activity = new_client.activity\n",
    "res = activity.filter(target_chembl_id='CHEMBL2189121', assay_type='B')\n",
    "\n",
    "# Put the results in a DataFrame\n",
    "kras = pd.DataFrame(res)\n",
    "print(f\"There are {kras.shape[0]} Kras inhibitors in ChEMBL\")"
   ]
  },
  {
   "cell_type": "code",
   "execution_count": 4,
   "metadata": {},
   "outputs": [
    {
     "data": {
      "text/html": [
       "<div>\n",
       "<style scoped>\n",
       "    .dataframe tbody tr th:only-of-type {\n",
       "        vertical-align: middle;\n",
       "    }\n",
       "\n",
       "    .dataframe tbody tr th {\n",
       "        vertical-align: top;\n",
       "    }\n",
       "\n",
       "    .dataframe thead th {\n",
       "        text-align: right;\n",
       "    }\n",
       "</style>\n",
       "<table border=\"1\" class=\"dataframe\">\n",
       "  <thead>\n",
       "    <tr style=\"text-align: right;\">\n",
       "      <th></th>\n",
       "      <th>action_type</th>\n",
       "      <th>activity_comment</th>\n",
       "      <th>activity_id</th>\n",
       "      <th>activity_properties</th>\n",
       "      <th>assay_chembl_id</th>\n",
       "      <th>assay_description</th>\n",
       "      <th>assay_type</th>\n",
       "      <th>assay_variant_accession</th>\n",
       "      <th>assay_variant_mutation</th>\n",
       "      <th>bao_endpoint</th>\n",
       "      <th>...</th>\n",
       "      <th>target_organism</th>\n",
       "      <th>target_pref_name</th>\n",
       "      <th>target_tax_id</th>\n",
       "      <th>text_value</th>\n",
       "      <th>toid</th>\n",
       "      <th>type</th>\n",
       "      <th>units</th>\n",
       "      <th>uo_units</th>\n",
       "      <th>upper_value</th>\n",
       "      <th>value</th>\n",
       "    </tr>\n",
       "  </thead>\n",
       "  <tbody>\n",
       "    <tr>\n",
       "      <th>0</th>\n",
       "      <td>None</td>\n",
       "      <td>None</td>\n",
       "      <td>11011900</td>\n",
       "      <td>[]</td>\n",
       "      <td>CHEMBL2089529</td>\n",
       "      <td>Binding affinity to K-Ras G12D mutant-GDP complex</td>\n",
       "      <td>B</td>\n",
       "      <td>P01116</td>\n",
       "      <td>G12D</td>\n",
       "      <td>BAO_0000034</td>\n",
       "      <td>...</td>\n",
       "      <td>Homo sapiens</td>\n",
       "      <td>GTPase KRas</td>\n",
       "      <td>9606</td>\n",
       "      <td>None</td>\n",
       "      <td>None</td>\n",
       "      <td>Kd</td>\n",
       "      <td>uM</td>\n",
       "      <td>UO_0000065</td>\n",
       "      <td>None</td>\n",
       "      <td>1300.0</td>\n",
       "    </tr>\n",
       "  </tbody>\n",
       "</table>\n",
       "<p>1 rows × 46 columns</p>\n",
       "</div>"
      ],
      "text/plain": [
       "  action_type activity_comment  activity_id activity_properties  \\\n",
       "0        None             None     11011900                  []   \n",
       "\n",
       "  assay_chembl_id                                  assay_description  \\\n",
       "0   CHEMBL2089529  Binding affinity to K-Ras G12D mutant-GDP complex   \n",
       "\n",
       "  assay_type assay_variant_accession assay_variant_mutation bao_endpoint  ...  \\\n",
       "0          B                  P01116                   G12D  BAO_0000034  ...   \n",
       "\n",
       "  target_organism target_pref_name target_tax_id text_value  toid type units  \\\n",
       "0    Homo sapiens      GTPase KRas          9606       None  None   Kd    uM   \n",
       "\n",
       "     uo_units upper_value   value  \n",
       "0  UO_0000065        None  1300.0  \n",
       "\n",
       "[1 rows x 46 columns]"
      ]
     },
     "execution_count": 4,
     "metadata": {},
     "output_type": "execute_result"
    }
   ],
   "source": [
    "kras.head(1)"
   ]
  },
  {
   "cell_type": "markdown",
   "metadata": {},
   "source": [
    "The activity units are present in the ```type``` column. This can give a clue as to how molecule's activity was determined"
   ]
  },
  {
   "cell_type": "code",
   "execution_count": 5,
   "metadata": {},
   "outputs": [
    {
     "data": {
      "text/plain": [
       "type\n",
       "IC50        1014\n",
       "INH          447\n",
       "Activity     204\n",
       "Kd            72\n",
       "Ratio         64\n",
       "Name: count, dtype: int64"
      ]
     },
     "execution_count": 5,
     "metadata": {},
     "output_type": "execute_result"
    }
   ],
   "source": [
    "kras.type.value_counts().head(5)"
   ]
  },
  {
   "cell_type": "markdown",
   "metadata": {},
   "source": [
    "# Get all activities with a pChEMBL value for a molecule\n",
    "\n",
    "One of the actity metrics: pChEMBL is used to convey the potency of a given molecule. It is calculated from one of several semi-comparable values in the ChEMBL database, and is defined as the negative log 10 molar of the IC50, XC50, EC50, AC50, Ki, Kd, or potency. Therefore, pChEMBL permits a rough comparison of these values. For example, a pChEMBL value of 7 would indicate that there is a measurable effect on a given target in the presence of 100 nM of molecule. To harmonize the data from Klaeger et al. with ChEMBL data, the Kd values were converted to pChEMBLs. The mean pChEMBL was calculated for every molecule–target combination, as well as the number of quantitative and qualitative associations found in the source databases.\n",
    "\n",
    "Source: [Allaway et al, 2018](https://jcheminf.biomedcentral.com/articles/10.1186/s13321-018-0297-4)"
   ]
  },
  {
   "cell_type": "code",
   "execution_count": 6,
   "metadata": {},
   "outputs": [
    {
     "data": {
      "text/plain": [
       "151"
      ]
     },
     "execution_count": 6,
     "metadata": {},
     "output_type": "execute_result"
    }
   ],
   "source": [
    "activities = new_client.activity\n",
    "res = activities.filter(molecule_chembl_id=\"CHEMBL25\", pchembl_value__isnull=False)\n",
    "\n",
    "len(res)"
   ]
  },
  {
   "cell_type": "code",
   "execution_count": null,
   "metadata": {},
   "outputs": [],
   "source": []
  }
 ],
 "metadata": {
  "kernelspec": {
   "display_name": "rdkit310",
   "language": "python",
   "name": "python3"
  },
  "language_info": {
   "codemirror_mode": {
    "name": "ipython",
    "version": 3
   },
   "file_extension": ".py",
   "mimetype": "text/x-python",
   "name": "python",
   "nbconvert_exporter": "python",
   "pygments_lexer": "ipython3",
   "version": "3.10.0"
  }
 },
 "nbformat": 4,
 "nbformat_minor": 2
}
