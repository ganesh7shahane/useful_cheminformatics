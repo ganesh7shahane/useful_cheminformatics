{
 "cells": [
  {
   "cell_type": "markdown",
   "metadata": {},
   "source": [
    "# Short Miscellaneous Tips and Tricks\n",
    "\n",
    "Here, I document short and miscellaneous snippets in RDKit"
   ]
  },
  {
   "cell_type": "code",
   "execution_count": 1,
   "metadata": {},
   "outputs": [],
   "source": [
    "from rdkit import Chem"
   ]
  },
  {
   "cell_type": "markdown",
   "metadata": {},
   "source": [
    "### Compute the SA score"
   ]
  },
  {
   "cell_type": "code",
   "execution_count": 2,
   "metadata": {},
   "outputs": [
    {
     "data": {
      "text/plain": [
       "2.458333926506519"
      ]
     },
     "execution_count": 2,
     "metadata": {},
     "output_type": "execute_result"
    }
   ],
   "source": [
    "#SAscore is stored in the contrib folder and hence we import it: rdkit_venv/lib/python3.12/site-packages/rdkit/Contrib/SA_Score\n",
    "#The SA_Score ranges from 1 to 10 with 1 being easy to make and 10 being hard to make.\n",
    "\n",
    "from rdkit.Contrib.SA_Score import sascorer\n",
    "\n",
    "mol = Chem.MolFromSmiles(\"Fc8cccc(c8)CNC(=O)C3CCN(C(c1c2ccccc2ccc1)C)CC3\")\n",
    "sascorer.calculateScore(mol)"
   ]
  },
  {
   "cell_type": "markdown",
   "metadata": {},
   "source": [
    "### Definition of rotatable bonds in RDKit\n",
    "\n",
    "I remember stumbling across the question: which bonds are considered rotatable by RDKit? \n",
    "\n",
    "The following figure gives an impression:\n",
    "\n",
    "Both Atenolol and Propranolol show in this case how RDKit defines rotatable bonds:\n",
    "\n",
    "Source: https://edu.rsc.org/download?ac=13153#:~:text=A%20rotatable%20bond%20is%20defined,their%20high%20barrier%20to%20rotation."
   ]
  },
  {
   "cell_type": "markdown",
   "metadata": {},
   "source": [
    "![title](data/rotatable_bonds.png)"
   ]
  },
  {
   "cell_type": "markdown",
   "metadata": {},
   "source": [
    "![title](data/rotatable_bonds_2.png)"
   ]
  },
  {
   "cell_type": "markdown",
   "metadata": {},
   "source": []
  }
 ],
 "metadata": {
  "kernelspec": {
   "display_name": "rdkit",
   "language": "python",
   "name": "python3"
  },
  "language_info": {
   "codemirror_mode": {
    "name": "ipython",
    "version": 3
   },
   "file_extension": ".py",
   "mimetype": "text/x-python",
   "name": "python",
   "nbconvert_exporter": "python",
   "pygments_lexer": "ipython3",
   "version": "3.12.2"
  }
 },
 "nbformat": 4,
 "nbformat_minor": 2
}
