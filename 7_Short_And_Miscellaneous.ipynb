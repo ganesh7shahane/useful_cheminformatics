{
 "cells": [
  {
   "cell_type": "markdown",
   "metadata": {},
   "source": [
    "# Short Miscellaneous Tips and Tricks\n",
    "\n",
    "Here, I document short and miscellaneous snippets in RDKit\n",
    "\n",
    "[Compute SA score](#compute-the-sa-score)\n",
    "\n",
    "[Read and Write SDF files](#manage-sdf-files)"
   ]
  },
  {
   "cell_type": "code",
   "execution_count": 1,
   "metadata": {},
   "outputs": [
    {
     "name": "stdout",
     "output_type": "stream",
     "text": [
      "I am RDKit version: 2023.09.5\n",
      "I am python version 3.12.2 (main, Feb 11 2024, 00:01:24) [Clang 15.0.0 (clang-1500.1.0.2.5)]\n"
     ]
    }
   ],
   "source": [
    "from rdkit import Chem\n",
    "import pandas as pd\n",
    "\n",
    "import rdkit\n",
    "print(f\"I am RDKit version: {rdkit.__version__}\")\n",
    "import sys\n",
    "print(f\"I am python version {sys.version}\")"
   ]
  },
  {
   "cell_type": "markdown",
   "metadata": {},
   "source": [
    "## Compute the SA score"
   ]
  },
  {
   "cell_type": "code",
   "execution_count": 2,
   "metadata": {},
   "outputs": [
    {
     "data": {
      "text/plain": [
       "2.458333926506519"
      ]
     },
     "execution_count": 2,
     "metadata": {},
     "output_type": "execute_result"
    }
   ],
   "source": [
    "#SAscore is stored in the contrib folder and hence we import it: rdkit_venv/lib/python3.12/site-packages/rdkit/Contrib/SA_Score\n",
    "#The SA_Score ranges from 1 to 10 with 1 being easy to make and 10 being hard to make.\n",
    "\n",
    "from rdkit.Contrib.SA_Score import sascorer\n",
    "\n",
    "mol = Chem.MolFromSmiles(\"Fc8cccc(c8)CNC(=O)C3CCN(C(c1c2ccccc2ccc1)C)CC3\")\n",
    "sascorer.calculateScore(mol)"
   ]
  },
  {
   "cell_type": "markdown",
   "metadata": {},
   "source": [
    "## Manage SDF files:\n",
    "\n",
    "#### Load an SDF file:"
   ]
  },
  {
   "cell_type": "code",
   "execution_count": 3,
   "metadata": {},
   "outputs": [
    {
     "name": "stderr",
     "output_type": "stream",
     "text": [
      "Failed to find the pandas get_adjustment() function to patch\n",
      "Failed to patch pandas - PandasTools will have limited functionality\n",
      "[17:57:48] ERROR: Cannot convert ' 1.' to unsigned int on line 4\n",
      "[17:57:48] ERROR: moving to the beginning of the next molecule\n",
      "Failed to patch pandas - unable to change molecule rendering\n"
     ]
    },
    {
     "name": "stdout",
     "output_type": "stream",
     "text": [
      "\n",
      " Number of molecules in the file: (146, 6)\n"
     ]
    },
    {
     "data": {
      "text/html": [
       "<div>\n",
       "<style scoped>\n",
       "    .dataframe tbody tr th:only-of-type {\n",
       "        vertical-align: middle;\n",
       "    }\n",
       "\n",
       "    .dataframe tbody tr th {\n",
       "        vertical-align: top;\n",
       "    }\n",
       "\n",
       "    .dataframe thead th {\n",
       "        text-align: right;\n",
       "    }\n",
       "</style>\n",
       "<table border=\"1\" class=\"dataframe\">\n",
       "  <thead>\n",
       "    <tr style=\"text-align: right;\">\n",
       "      <th></th>\n",
       "      <th>Score_ID</th>\n",
       "      <th>ID_class</th>\n",
       "      <th>No</th>\n",
       "      <th>Canonical_Smiles</th>\n",
       "      <th>ID</th>\n",
       "      <th>ROMol</th>\n",
       "    </tr>\n",
       "  </thead>\n",
       "  <tbody>\n",
       "    <tr>\n",
       "      <th>1</th>\n",
       "      <td>J61</td>\n",
       "      <td>J</td>\n",
       "      <td>1713</td>\n",
       "      <td>Cc1c(cc(c2ccccc2F)n1C)C(=O)NCc3ccc(O)c(S)c3</td>\n",
       "      <td></td>\n",
       "      <td>&lt;rdkit.Chem.rdchem.Mol object at 0x11ccc2260&gt;</td>\n",
       "    </tr>\n",
       "    <tr>\n",
       "      <th>2</th>\n",
       "      <td>J62</td>\n",
       "      <td>J</td>\n",
       "      <td>1714</td>\n",
       "      <td>CN(C)c1ccc(cc1)[C@@](C)(S)Cn2ccc(C)c2c3ccc(F)cc3</td>\n",
       "      <td></td>\n",
       "      <td>&lt;rdkit.Chem.rdchem.Mol object at 0x11ccc22d0&gt;</td>\n",
       "    </tr>\n",
       "  </tbody>\n",
       "</table>\n",
       "</div>"
      ],
      "text/plain": [
       "  Score_ID ID_class    No                                  Canonical_Smiles  \\\n",
       "1      J61        J  1713       Cc1c(cc(c2ccccc2F)n1C)C(=O)NCc3ccc(O)c(S)c3   \n",
       "2      J62        J  1714  CN(C)c1ccc(cc1)[C@@](C)(S)Cn2ccc(C)c2c3ccc(F)cc3   \n",
       "\n",
       "  ID                                          ROMol  \n",
       "1     <rdkit.Chem.rdchem.Mol object at 0x11ccc2260>  \n",
       "2     <rdkit.Chem.rdchem.Mol object at 0x11ccc22d0>  "
      ]
     },
     "execution_count": 3,
     "metadata": {},
     "output_type": "execute_result"
    }
   ],
   "source": [
    "from rdkit.Chem import PandasTools\n",
    "\n",
    "frame = PandasTools.LoadSDF('data/DS_data_146.sdf')\n",
    "\n",
    "print(f\"\\n Number of molecules in the file: {frame.shape}\")\n",
    "frame.head(2)"
   ]
  },
  {
   "cell_type": "markdown",
   "metadata": {},
   "source": [
    "#### Convert dataframe/CSV to SDF:\n"
   ]
  },
  {
   "cell_type": "code",
   "execution_count": 4,
   "metadata": {},
   "outputs": [],
   "source": [
    "df = pd.DataFrame({'smiles':['CCCC', 'CCO','C(F)']})\n",
    "\n",
    "# To write SDF, there always needs to be a mol column with mol object in it:\n",
    "df['mol'] = df['smiles'].apply(Chem.MolFromSmiles)\n",
    "Chem.PandasTools.WriteSDF(df, 'data/new_df.sdf', molColName='mol')"
   ]
  },
  {
   "cell_type": "markdown",
   "metadata": {},
   "source": [
    "## Definition of rotatable bonds in RDKit\n",
    "\n",
    "I remember stumbling across the question: which bonds are considered rotatable by RDKit? \n",
    "\n",
    "The following figure gives an impression:\n",
    "\n",
    "Both Atenolol and Propranolol show in this case how RDKit defines rotatable bonds:\n",
    "\n",
    "Source: https://edu.rsc.org/download?ac=13153#:~:text=A%20rotatable%20bond%20is%20defined,their%20high%20barrier%20to%20rotation."
   ]
  },
  {
   "cell_type": "markdown",
   "metadata": {},
   "source": [
    "![title](data/rotatable_bonds.png)"
   ]
  },
  {
   "cell_type": "markdown",
   "metadata": {},
   "source": [
    "![title](data/rotatable_bonds_2.png)"
   ]
  },
  {
   "cell_type": "markdown",
   "metadata": {},
   "source": []
  }
 ],
 "metadata": {
  "kernelspec": {
   "display_name": "rdkit",
   "language": "python",
   "name": "python3"
  },
  "language_info": {
   "codemirror_mode": {
    "name": "ipython",
    "version": 3
   },
   "file_extension": ".py",
   "mimetype": "text/x-python",
   "name": "python",
   "nbconvert_exporter": "python",
   "pygments_lexer": "ipython3",
   "version": "3.12.2"
  }
 },
 "nbformat": 4,
 "nbformat_minor": 2
}
