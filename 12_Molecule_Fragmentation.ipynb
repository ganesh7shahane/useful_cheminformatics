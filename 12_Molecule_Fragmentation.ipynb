{
 "cells": [
  {
   "cell_type": "markdown",
   "metadata": {},
   "source": [
    "# Molecule Fragmentation\n",
    "\n",
    "This notebook is to understand how to decompose small molecules in to their building blocks using various algorithms.\n",
    "\n",
    "This could prove useful in various tasks such as R-group replacement, scaffold hopping and molecule optimisation."
   ]
  },
  {
   "cell_type": "code",
   "execution_count": 5,
   "metadata": {},
   "outputs": [],
   "source": [
    "import os\n",
    "import numpy as np\n",
    "import pandas as pd\n",
    "from rdkit import Chem, DataStructs\n",
    "from rdkit.ML.Descriptors import MoleculeDescriptors\n",
    "from rdkit.Chem import AllChem, BRICS, Descriptors, RDConfig, Draw"
   ]
  },
  {
   "cell_type": "markdown",
   "metadata": {},
   "source": [
    "## Method 1\n",
    "\n",
    "Consider a sample molecule:"
   ]
  },
  {
   "cell_type": "code",
   "execution_count": 6,
   "metadata": {},
   "outputs": [
    {
     "data": {
      "image/png": "[encoded data removed]",
      "text/plain": [
       "<rdkit.Chem.rdchem.Mol at 0x17b62cdd0>"
      ]
     },
     "execution_count": 6,
     "metadata": {},
     "output_type": "execute_result"
    }
   ],
   "source": [
    "mol = Chem.MolFromSmiles('COc1ccc(NC(=O)c2cc(I)ccc2O)cc1')\n",
    "mol"
   ]
  },
  {
   "cell_type": "code",
   "execution_count": 8,
   "metadata": {},
   "outputs": [
    {
     "data": {
      "text/plain": [
       "{'[1*]C([6*])=O',\n",
       " '[16*]c1cc(I)ccc1O',\n",
       " '[16*]c1ccc([16*])cc1',\n",
       " '[3*]OC',\n",
       " '[5*]N[5*]'}"
      ]
     },
     "execution_count": 8,
     "metadata": {},
     "output_type": "execute_result"
    }
   ],
   "source": [
    "# BRICS decomposition. Returns a set of fragments.\n",
    "\n",
    "frags = BRICS.BRICSDecompose(mol)\n",
    "frags"
   ]
  },
  {
   "cell_type": "markdown",
   "metadata": {},
   "source": [
    "#### Build a fragment library by decomposing a list of molecules"
   ]
  },
  {
   "cell_type": "code",
   "execution_count": 12,
   "metadata": {},
   "outputs": [],
   "source": [
    "all_frags = set()\n",
    "\n"
   ]
  },
  {
   "cell_type": "code",
   "execution_count": null,
   "metadata": {},
   "outputs": [],
   "source": []
  },
  {
   "cell_type": "markdown",
   "metadata": {},
   "source": [
    "## Method 2"
   ]
  },
  {
   "cell_type": "code",
   "execution_count": 10,
   "metadata": {},
   "outputs": [],
   "source": [
    "# Set up the fragmenter:\n",
    "from rdkit.Chem import FragmentCatalog\n",
    "\n",
    "fName = os.path.join(RDConfig.RDDataDir,'FunctionalGroups.txt')\n",
    "fparams = FragmentCatalog.FragCatParams(1,6,fName)\n",
    "\n",
    "# Get the number of functional groups:\n",
    "fparams.GetNumFuncGroups()\n",
    "fcat=FragmentCatalog.FragCatalog(fparams)\n",
    "fcgen=FragmentCatalog.FragCatGenerator()"
   ]
  },
  {
   "cell_type": "code",
   "execution_count": null,
   "metadata": {},
   "outputs": [
    {
     "name": "stdout",
     "output_type": "stream",
     "text": [
      "3\n"
     ]
    }
   ],
   "source": [
    "# Fragment the following molecules\n",
    "\n",
    "m = Chem.MolFromSmiles('OCC=CC(=O)O')\n",
    "print(fcgen.AddFragsFromMol(m,fcat))"
   ]
  },
  {
   "cell_type": "code",
   "execution_count": null,
   "metadata": {},
   "outputs": [
    {
     "name": "stdout",
     "output_type": "stream",
     "text": [
      "C<-O>C\n",
      "C=C<-C(=O)O>\n",
      "C<-C(=O)O>=CC<-O>\n"
     ]
    }
   ],
   "source": [
    "#Check what the fragments look like:\n",
    "\n",
    "print(fcat.GetEntryDescription(0))\n",
    "print(fcat.GetEntryDescription(1))\n",
    "print(fcat.GetEntryDescription(2))"
   ]
  },
  {
   "cell_type": "markdown",
   "metadata": {},
   "source": [
    "Notice that the entry descriptions include pieces in angular brackets (e.g. between ‘<’ and ‘>’). These describe the functional groups attached to the fragment. \n",
    "\n",
    "For example, in the above example, the catalog entry 0 corresponds to an ethyl fragment\n",
    "with an alcohol attached to one of the carbons and entry 1 is an ethylene with a carboxylic acid on one carbon\n",
    "\n",
    "This method generates too many and irrelevant fragments. "
   ]
  },
  {
   "cell_type": "markdown",
   "metadata": {},
   "source": []
  }
 ],
 "metadata": {
  "kernelspec": {
   "display_name": "rdkit310",
   "language": "python",
   "name": "python3"
  },
  "language_info": {
   "codemirror_mode": {
    "name": "ipython",
    "version": 3
   },
   "file_extension": ".py",
   "mimetype": "text/x-python",
   "name": "python",
   "nbconvert_exporter": "python",
   "pygments_lexer": "ipython3",
   "version": "3.10.0"
  }
 },
 "nbformat": 4,
 "nbformat_minor": 2
}
