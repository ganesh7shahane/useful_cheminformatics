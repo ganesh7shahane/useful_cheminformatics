{
 "cells": [
  {
   "cell_type": "markdown",
   "metadata": {},
   "source": [
    "# Visualising molecules and computing properties in RDKit"
   ]
  },
  {
   "cell_type": "code",
   "execution_count": 1,
   "metadata": {},
   "outputs": [
    {
     "name": "stderr",
     "output_type": "stream",
     "text": [
      "Failed to find the pandas get_adjustment() function to patch\n",
      "Failed to patch pandas - PandasTools will have limited functionality\n"
     ]
    }
   ],
   "source": [
    "#Import useful modules:\n",
    "\n",
    "from rdkit import Chem\n",
    "from rdkit.Chem import AllChem\n",
    "from rdkit.Chem import rdmolops\n",
    "from rdkit.Chem import Draw\n",
    "from rdkit.Chem import Descriptors\n",
    "from rdkit.Chem import rdMolDescriptors as rdmd\n",
    "from rdkit.Chem import rdDepictor\n",
    "from rdkit.Chem import PandasTools\n",
    "import pandas as pd\n",
    "import numpy as np\n",
    "import matplotlib.pyplot as plt"
   ]
  },
  {
   "cell_type": "markdown",
   "metadata": {},
   "source": [
    "Visualise a single molecule:"
   ]
  },
  {
   "cell_type": "code",
   "execution_count": 2,
   "metadata": {},
   "outputs": [
    {
     "data": {
      "image/jpeg": "[encoded data removed]",
      "image/png": "[encoded data removed]",
      "text/plain": [
       "<PIL.PngImagePlugin.PngImageFile image mode=RGB size=300x300>"
      ]
     },
     "execution_count": 2,
     "metadata": {},
     "output_type": "execute_result"
    }
   ],
   "source": [
    "q= Chem.MolFromSmiles(\"Fc8cccc(c8)CNC(=O)C3CCN(C(c1c2ccccc2ccc1)C)CC3\")\n",
    "Draw.MolToImage(q)"
   ]
  },
  {
   "cell_type": "markdown",
   "metadata": {},
   "source": [
    "Or simply:"
   ]
  },
  {
   "cell_type": "code",
   "execution_count": 3,
   "metadata": {},
   "outputs": [
    {
     "data": {
      "image/png": "[encoded data removed]",
      "text/plain": [
       "<rdkit.Chem.rdchem.Mol at 0x1616ab220>"
      ]
     },
     "execution_count": 3,
     "metadata": {},
     "output_type": "execute_result"
    }
   ],
   "source": [
    "Chem.MolFromSmiles(\"C[C@H]1[C@H]([C@@H](O[C@@]1(C)C(F)(F)F)C(=O)NC2=CC(=NC=C2)C(=O)N)C3=C(C(=C(C=C3)F)F)OC\")"
   ]
  },
  {
   "cell_type": "markdown",
   "metadata": {},
   "source": [
    "Compute some commonly used molecular descriptors:"
   ]
  },
  {
   "cell_type": "code",
   "execution_count": 4,
   "metadata": {},
   "outputs": [
    {
     "name": "stdout",
     "output_type": "stream",
     "text": [
      "Mol-Wt: 473.13739721999997\n",
      "TPSA: 103.53999999999999\n",
      "LogP: 3.5455000000000014\n",
      "Rot_bonds: 5\n",
      "HBA: 5\n",
      "HBD: 2\n"
     ]
    }
   ],
   "source": [
    "x1 = Chem.MolFromSmiles('C[C@H]1[C@H]([C@@H](O[C@@]1(C)C(F)(F)F)C(=O)NC2=CC(=NC=C2)C(=O)N)C3=C(C(=C(C=C3)F)F)OC')\n",
    "\n",
    "print('Mol-Wt:', Descriptors.ExactMolWt(x1))\n",
    "print('TPSA:', Descriptors.TPSA(x1))\n",
    "print('LogP:', Descriptors.MolLogP(x1))\n",
    "print('Rot_bonds:', Descriptors.NumRotatableBonds(x1)) #without hydrogens is the valid count for RB\n",
    "print('HBA:', Descriptors.NumHAcceptors(x1))\n",
    "print('HBD:', Descriptors.NumHDonors(x1))"
   ]
  },
  {
   "cell_type": "markdown",
   "metadata": {},
   "source": [
    "Now, we will compute all descriptors that can be calculated in RDKit. This can be very useful for model building and molecule filtering:"
   ]
  },
  {
   "cell_type": "code",
   "execution_count": 5,
   "metadata": {},
   "outputs": [
    {
     "name": "stdout",
     "output_type": "stream",
     "text": [
      "This returns around 210 descriptors, inside a <class 'dict'>\n"
     ]
    }
   ],
   "source": [
    "descrs = Descriptors.CalcMolDescriptors(x1)\n",
    "\n",
    "print(f\"This returns around {len(descrs)} descriptors, inside a {type(descrs)}\")"
   ]
  },
  {
   "cell_type": "markdown",
   "metadata": {},
   "source": [
    "The dictionary in return could be converted into a Pandas dataframe:"
   ]
  },
  {
   "cell_type": "code",
   "execution_count": 6,
   "metadata": {},
   "outputs": [
    {
     "data": {
      "text/html": [
       "<div>\n",
       "<style scoped>\n",
       "    .dataframe tbody tr th:only-of-type {\n",
       "        vertical-align: middle;\n",
       "    }\n",
       "\n",
       "    .dataframe tbody tr th {\n",
       "        vertical-align: top;\n",
       "    }\n",
       "\n",
       "    .dataframe thead th {\n",
       "        text-align: right;\n",
       "    }\n",
       "</style>\n",
       "<table border=\"1\" class=\"dataframe\">\n",
       "  <thead>\n",
       "    <tr style=\"text-align: right;\">\n",
       "      <th></th>\n",
       "      <th>0</th>\n",
       "      <th>1</th>\n",
       "    </tr>\n",
       "  </thead>\n",
       "  <tbody>\n",
       "    <tr>\n",
       "      <th>0</th>\n",
       "      <td>MaxAbsEStateIndex</td>\n",
       "      <td>14.350342</td>\n",
       "    </tr>\n",
       "    <tr>\n",
       "      <th>1</th>\n",
       "      <td>MaxEStateIndex</td>\n",
       "      <td>14.350342</td>\n",
       "    </tr>\n",
       "    <tr>\n",
       "      <th>2</th>\n",
       "      <td>MinAbsEStateIndex</td>\n",
       "      <td>0.024691</td>\n",
       "    </tr>\n",
       "  </tbody>\n",
       "</table>\n",
       "</div>"
      ],
      "text/plain": [
       "                   0          1\n",
       "0  MaxAbsEStateIndex  14.350342\n",
       "1     MaxEStateIndex  14.350342\n",
       "2  MinAbsEStateIndex   0.024691"
      ]
     },
     "execution_count": 6,
     "metadata": {},
     "output_type": "execute_result"
    }
   ],
   "source": [
    "#Display top 3 items:\n",
    "pd.DataFrame(descrs.items()).head(3)"
   ]
  },
  {
   "cell_type": "markdown",
   "metadata": {},
   "source": [
    "However, most of the times, we wish to compute descriptors inside a dataframe for a bunch of molecules.\n",
    "\n",
    "So here's how we do this:"
   ]
  },
  {
   "cell_type": "code",
   "execution_count": 15,
   "metadata": {},
   "outputs": [
    {
     "name": "stdout",
     "output_type": "stream",
     "text": [
      "The dataframe contains 999 molecules\n"
     ]
    },
    {
     "data": {
      "text/html": [
       "<div>\n",
       "<style scoped>\n",
       "    .dataframe tbody tr th:only-of-type {\n",
       "        vertical-align: middle;\n",
       "    }\n",
       "\n",
       "    .dataframe tbody tr th {\n",
       "        vertical-align: top;\n",
       "    }\n",
       "\n",
       "    .dataframe thead th {\n",
       "        text-align: right;\n",
       "    }\n",
       "</style>\n",
       "<table border=\"1\" class=\"dataframe\">\n",
       "  <thead>\n",
       "    <tr style=\"text-align: right;\">\n",
       "      <th></th>\n",
       "      <th>ID</th>\n",
       "      <th>SMILES</th>\n",
       "      <th>QED</th>\n",
       "      <th>Retrosynthesis Score</th>\n",
       "      <th>Retrosynthesis Steps</th>\n",
       "    </tr>\n",
       "  </thead>\n",
       "  <tbody>\n",
       "    <tr>\n",
       "      <th>0</th>\n",
       "      <td>1</td>\n",
       "      <td>CCCc1ncnc(-c2ccc(C(=O)N3CCN(C(C)CC)CC3)c(F)c2)...</td>\n",
       "      <td>0.511405</td>\n",
       "      <td>0.6</td>\n",
       "      <td>5.0</td>\n",
       "    </tr>\n",
       "    <tr>\n",
       "      <th>1</th>\n",
       "      <td>2</td>\n",
       "      <td>CCc1ncnc(-c2ccc(C(=O)N3CCN(C(C)C)CC3)c(F)c2)c1...</td>\n",
       "      <td>0.585936</td>\n",
       "      <td>0.2</td>\n",
       "      <td>2.0</td>\n",
       "    </tr>\n",
       "    <tr>\n",
       "      <th>2</th>\n",
       "      <td>3</td>\n",
       "      <td>CC(C)Cc1ncnc(-c2ccc(C(=O)N3CCN(C(C)C)CC3)c(F)c...</td>\n",
       "      <td>0.532574</td>\n",
       "      <td>0.6</td>\n",
       "      <td>7.0</td>\n",
       "    </tr>\n",
       "  </tbody>\n",
       "</table>\n",
       "</div>"
      ],
      "text/plain": [
       "   ID                                             SMILES       QED  \\\n",
       "0   1  CCCc1ncnc(-c2ccc(C(=O)N3CCN(C(C)CC)CC3)c(F)c2)...  0.511405   \n",
       "1   2  CCc1ncnc(-c2ccc(C(=O)N3CCN(C(C)C)CC3)c(F)c2)c1...  0.585936   \n",
       "2   3  CC(C)Cc1ncnc(-c2ccc(C(=O)N3CCN(C(C)C)CC3)c(F)c...  0.532574   \n",
       "\n",
       "   Retrosynthesis Score  Retrosynthesis Steps  \n",
       "0                   0.6                   5.0  \n",
       "1                   0.2                   2.0  \n",
       "2                   0.6                   7.0  "
      ]
     },
     "execution_count": 15,
     "metadata": {},
     "output_type": "execute_result"
    }
   ],
   "source": [
    "# Import a sample dataframe containing SMILES molecules:\n",
    "\n",
    "data = pd.read_csv(\"data/CS12_combined.csv\")\n",
    "print(f\"The dataframe contains {data.shape[0]} molecules\")\n",
    "data.head(3)"
   ]
  },
  {
   "cell_type": "code",
   "execution_count": null,
   "metadata": {},
   "outputs": [],
   "source": []
  }
 ],
 "metadata": {
  "kernelspec": {
   "display_name": "rdkit",
   "language": "python",
   "name": "python3"
  },
  "language_info": {
   "codemirror_mode": {
    "name": "ipython",
    "version": 3
   },
   "file_extension": ".py",
   "mimetype": "text/x-python",
   "name": "python",
   "nbconvert_exporter": "python",
   "pygments_lexer": "ipython3",
   "version": "3.12.2"
  }
 },
 "nbformat": 4,
 "nbformat_minor": 2
}
