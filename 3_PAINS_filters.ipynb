{
 "cells": [
  {
   "cell_type": "markdown",
   "metadata": {},
   "source": [
    "# Compute PAINS filters"
   ]
  },
  {
   "cell_type": "markdown",
   "metadata": {},
   "source": [
    "PAINS smarts as implemented in RDKit can be found here: https://github.com/rdkit/rdkit/blob/3af7aeaaea348ef25e974056ad1b593efa4e7f8d/Data/Pains/wehi_pains.csv\n",
    "\n",
    "As well as some udeful discussion around them here: https://github.com/rdkit/rdkit/pull/536\n",
    "\n",
    "Adding Chem.AddHs(mol) first to the query molecule, as per this article: http://rdkit.blogspot.com/2015/08/curating-pains-filters.html\n",
    "\n",
    "An interesting article on PAINS by Derek Lowe is here: https://www.science.org/content/blog-post/no-easy-road-getting-rid-pains\n",
    "\n",
    "New, updated PAINS smarts are here: https://github.com/rdkit/rdkit/blob/master/Data/Pains/wehi_pains.csv"
   ]
  },
  {
   "cell_type": "code",
   "execution_count": 13,
   "metadata": {},
   "outputs": [],
   "source": [
    "from rdkit.Chem.FilterCatalog import *\n",
    "\n",
    "params = FilterCatalogParams()\n",
    "params.AddCatalog(FilterCatalogParams.FilterCatalogs.PAINS_A) #there are 3 filter sets: A, B and C. Choosing only A here\n",
    "params.AddCatalog(FilterCatalogParams.FilterCatalogs.PAINS_B)\n",
    "params.AddCatalog(FilterCatalogParams.FilterCatalogs.PAINS_C)\n",
    "\n",
    "catalog = FilterCatalog(params)\n",
    "    \n",
    "def pains(x):\n",
    "    entry = catalog.GetFirstMatch(x)\n",
    "    \n",
    "    if entry is None:\n",
    "        return \"False\" #returns False if the smiles does not have any PAINS\n",
    "    \n",
    "    elif entry.HasFilterMatch(x):\n",
    "        p_status = entry.HasFilterMatch(x) #otherwise returns True\n",
    "        return p_status"
   ]
  },
  {
   "cell_type": "code",
   "execution_count": 7,
   "metadata": {},
   "outputs": [
    {
     "data": {
      "text/plain": [
       "'False'"
      ]
     },
     "execution_count": 7,
     "metadata": {},
     "output_type": "execute_result"
    }
   ],
   "source": [
    "# Let's pass to pains() a molecule that does not have PAINS substructure:\n",
    "\n",
    "mol = Chem.MolFromSmiles('CNc1c2cc(Oc7c(cc(F)cn7)C(=O)NC(C4C(=O)C=C(CC4)C)NC(=O)C=C)ccc2[nH]n1')\n",
    "pains(mol)"
   ]
  },
  {
   "cell_type": "code",
   "execution_count": 8,
   "metadata": {},
   "outputs": [
    {
     "data": {
      "text/plain": [
       "True"
      ]
     },
     "execution_count": 8,
     "metadata": {},
     "output_type": "execute_result"
    }
   ],
   "source": [
    "# Lets pass a molecule that has a PAINS substructure:\n",
    "\n",
    "pa = Chem.MolFromSmiles('O=C(Cn1cnc2c1c(=O)n(C)c(=O)n2C)N/N=C/c1c(O)ccc2c1cccc2')\n",
    "pains(pa)"
   ]
  },
  {
   "cell_type": "code",
   "execution_count": 11,
   "metadata": {},
   "outputs": [],
   "source": [
    "#If you wish to check PAINS in a dataframe containing smiles:\n",
    "\n",
    "import pandas as pd\n",
    "\n",
    "smi = {'smiles': ['c1ccccc1C(=O)O', 'c1ccccc1N', 'c1ccccc1O', 'c1ccccc1ON']}\n",
    "da = pd.DataFrame(data=smi)\n",
    "da['mol'] = da['smiles'].apply(Chem.MolFromSmiles)\n",
    "\n",
    "da['PAINS?'] = da['mol'].apply(pains)"
   ]
  },
  {
   "cell_type": "code",
   "execution_count": 12,
   "metadata": {},
   "outputs": [
    {
     "data": {
      "text/html": [
       "<div>\n",
       "<style scoped>\n",
       "    .dataframe tbody tr th:only-of-type {\n",
       "        vertical-align: middle;\n",
       "    }\n",
       "\n",
       "    .dataframe tbody tr th {\n",
       "        vertical-align: top;\n",
       "    }\n",
       "\n",
       "    .dataframe thead th {\n",
       "        text-align: right;\n",
       "    }\n",
       "</style>\n",
       "<table border=\"1\" class=\"dataframe\">\n",
       "  <thead>\n",
       "    <tr style=\"text-align: right;\">\n",
       "      <th></th>\n",
       "      <th>smiles</th>\n",
       "      <th>mol</th>\n",
       "      <th>PAINS?</th>\n",
       "    </tr>\n",
       "  </thead>\n",
       "  <tbody>\n",
       "    <tr>\n",
       "      <th>0</th>\n",
       "      <td>c1ccccc1C(=O)O</td>\n",
       "      <td>&lt;rdkit.Chem.rdchem.Mol object at 0x15651fb50&gt;</td>\n",
       "      <td>False</td>\n",
       "    </tr>\n",
       "    <tr>\n",
       "      <th>1</th>\n",
       "      <td>c1ccccc1N</td>\n",
       "      <td>&lt;rdkit.Chem.rdchem.Mol object at 0x15651ff40&gt;</td>\n",
       "      <td>False</td>\n",
       "    </tr>\n",
       "    <tr>\n",
       "      <th>2</th>\n",
       "      <td>c1ccccc1O</td>\n",
       "      <td>&lt;rdkit.Chem.rdchem.Mol object at 0x156580040&gt;</td>\n",
       "      <td>False</td>\n",
       "    </tr>\n",
       "    <tr>\n",
       "      <th>3</th>\n",
       "      <td>c1ccccc1ON</td>\n",
       "      <td>&lt;rdkit.Chem.rdchem.Mol object at 0x1565800b0&gt;</td>\n",
       "      <td>False</td>\n",
       "    </tr>\n",
       "  </tbody>\n",
       "</table>\n",
       "</div>"
      ],
      "text/plain": [
       "           smiles                                            mol PAINS?\n",
       "0  c1ccccc1C(=O)O  <rdkit.Chem.rdchem.Mol object at 0x15651fb50>  False\n",
       "1       c1ccccc1N  <rdkit.Chem.rdchem.Mol object at 0x15651ff40>  False\n",
       "2       c1ccccc1O  <rdkit.Chem.rdchem.Mol object at 0x156580040>  False\n",
       "3      c1ccccc1ON  <rdkit.Chem.rdchem.Mol object at 0x1565800b0>  False"
      ]
     },
     "execution_count": 12,
     "metadata": {},
     "output_type": "execute_result"
    }
   ],
   "source": [
    "da"
   ]
  }
 ],
 "metadata": {
  "kernelspec": {
   "display_name": "rdkit",
   "language": "python",
   "name": "python3"
  },
  "language_info": {
   "codemirror_mode": {
    "name": "ipython",
    "version": 3
   },
   "file_extension": ".py",
   "mimetype": "text/x-python",
   "name": "python",
   "nbconvert_exporter": "python",
   "pygments_lexer": "ipython3",
   "version": "3.12.2"
  }
 },
 "nbformat": 4,
 "nbformat_minor": 2
}
