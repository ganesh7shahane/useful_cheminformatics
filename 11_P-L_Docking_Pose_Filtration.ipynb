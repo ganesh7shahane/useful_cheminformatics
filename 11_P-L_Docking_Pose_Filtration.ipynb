{
 "cells": [
  {
   "cell_type": "markdown",
   "metadata": {},
   "source": [
    "**Task:** \n",
    "\n",
    "Given a protein (see attached PDB file) and a set of docked ligand poses (attached SDF file), could you please write a script that filters out ligand poses that do __not__ contain a salt bridge between the ligand 5HT2A and the Aspartate at index 155 in the PDB file. The skeleton of the main function is provided. You are free to write as many helper functions as you wish. You may use any Python based chemoinformatic library (RDKit, OpenEye, OpenBabel).\n"
   ]
  },
  {
   "cell_type": "markdown",
   "metadata": {},
   "source": [
    "__Hints:__\n",
    "\n",
    "- We define a salt bridge as an oxygen-nitrogen with a distance less than 3.5Å. Conjugated nitrogens and nitrogens adjacent to aromatic systems should be discluded. \n",
    "\n",
    "\n",
    "- In this task you will: \n",
    "    - load the protein and ligands\n",
    "    - select atoms that could potentially form a salt bridge at D155\n",
    "    - compute the distance between them\n",
    "    - filter out ligand poses that do not form a salt bridge\n",
    "    - saves the remiaining poses to an SDF file.\n",
    "    \n",
    "__Bonus points for:__\n",
    "\n",
    "- Writing all functions with docstrings and specifying the types of the inputs and outputs.\n",
    "- Adding an SDTag to the filtered ligands, indicating the distance of the salt bridge."
   ]
  },
  {
   "cell_type": "markdown",
   "metadata": {},
   "source": [
    "### Step 1: Import the necessary libraries"
   ]
  },
  {
   "cell_type": "code",
   "execution_count": 1,
   "metadata": {},
   "outputs": [],
   "source": [
    "from Bio.PDB import PDBParser\n",
    "import Bio.PDB.Atom\n",
    "from rdkit import Chem\n",
    "from rdkit.Chem import AllChem\n",
    "from rdkit import RDLogger\n",
    "RDLogger.DisableLog('rdApp.*')"
   ]
  },
  {
   "cell_type": "markdown",
   "metadata": {},
   "source": [
    "### Step 2: Define helper functions to check aromaticity of Nitrogen's neighbours and compute distance to detect salt bridge:"
   ]
  },
  {
   "cell_type": "code",
   "execution_count": 2,
   "metadata": {},
   "outputs": [],
   "source": [
    "def is_aromatic_neighbour(atom):\n",
    "    \"\"\"\n",
    "    Summary: this function checks if a nitrogen is adjacent to an aromatic ring\n",
    "    \n",
    "    Args:\n",
    "        atom: str\n",
    "            The mol object for the nitrogen atom\n",
    "    \n",
    "    Returns:\n",
    "        True or False\n",
    "    \"\"\"\n",
    "    #get neighbouring atoms:\n",
    "    neighbors = atom.GetNeighbors()\n",
    "    \n",
    "    #check if those are aromatic:\n",
    "    aromatic_neighbors = any(neighbor.GetIsAromatic() for neighbor in neighbors)\n",
    "                    \n",
    "    if aromatic_neighbors:\n",
    "        return True\n",
    "    else:\n",
    "        return False\n",
    "\n",
    "def is_salt_bridge(res, ligand, salt_bridge_distance_cutoff = 3.5):\n",
    "    \"\"\"\n",
    "    Summary: This function checks if a ligand forms a salt bridge with ASP155 based on a distance cutoff. \n",
    "    It iterates over the OD1 and OD2 atoms of the Aspartate residue and the N and O atoms of the ligand, and calculates the distance \n",
    "    between them. If the distance is less than the cutoff, it returns True, indicating a potential salt bridge.\n",
    "    \n",
    "    Args:\n",
    "        res: int\n",
    "            This is the target residue ID: in this case ASP155\n",
    "        \n",
    "        ligand: str\n",
    "            The mol object the represents the docked pose\n",
    "            \n",
    "        salt_bridge_distance_cutoff: float\n",
    "            Docked poses will be kept only if they have a salt bridge less than this specified value.\n",
    "    \n",
    "    Returns:\n",
    "        (distance and True) OR (None and False)\n",
    "    \"\"\"\n",
    "    \n",
    "    conf = ligand.GetConformer()\n",
    "    \n",
    "    # Enumerate through both side-chain oxygens of ASP155 and nitrogen and oxygen of ligand poses:\n",
    "    for atom1 in res.get_list():\n",
    "        if atom1.get_name() in [\"OD1\", \"OD2\"]:\n",
    "            for atom2 in ligand.GetAtoms():\n",
    "                if atom2.GetSymbol() in [\"N\"] and not atom2.IsInRing() and not is_aromatic_neighbour(atom2): #make sure that the nitrogen is NOT part of the ring\n",
    "                    \n",
    "                    # Get the XYZ coordinates\n",
    "                    position1 = atom1.get_coord()\n",
    "                    position2 = conf.GetAtomPosition(atom2.GetIdx())\n",
    "                    \n",
    "                    #Use the Euclidean distance formula to calculate the distance between the two atoms:\n",
    "                    distance = ((position1[0] - position2.x) ** 2 +\n",
    "                                    (position1[1] - position2.y) ** 2 +\n",
    "                                    (position1[2] - position2.z) ** 2) ** 0.5\n",
    "                    \n",
    "                    if distance < salt_bridge_distance_cutoff:\n",
    "                        return distance, True\n",
    "    else:                \n",
    "        return None, False"
   ]
  },
  {
   "cell_type": "markdown",
   "metadata": {},
   "source": [
    "### Step 3: Define the main function to filter ligand poses depending upon presence or absence of salt bridge"
   ]
  },
  {
   "cell_type": "code",
   "execution_count": 3,
   "metadata": {},
   "outputs": [],
   "source": [
    "def filter_ligand_poses(pdb_file, sdf_file, output_file, residue_position=155):\n",
    "    \"\"\"\n",
    "    Summary: This function filters out ligand poses that do not form a salt bridge with the Aspartate residue at the specified 155 position.\n",
    "    \n",
    "    Args:\n",
    "        pdb_file: str\n",
    "            The PDB file of the protein to analyse.\n",
    "            \n",
    "        sdf_file: str\n",
    "            The input SDF file of the docked ligand poses to filter.\n",
    "            \n",
    "        output_file: str\n",
    "            The sdf file to write the filtered ligands to.\n",
    "            \n",
    "        residue_position: int\n",
    "            The residue index representing the conserved Aspartate. It is 155 for the task by default.\n",
    "    \n",
    "    Returns:\n",
    "        None \n",
    "    \"\"\"\n",
    "    parser = PDBParser()\n",
    "    structure = parser.get_structure(\"protein\", pdb_file)\n",
    "    model = structure[0]\n",
    "\n",
    "    # Enumerate through all amino acids in the sequence to find if ASP is indeed at position 155:\n",
    "    target_residue = None\n",
    "    for residue in model.get_residues():\n",
    "        if residue.get_full_id()[3][1] == residue_position and residue.get_resname() == \"ASP\":\n",
    "            target_residue = residue\n",
    "            break\n",
    "    \n",
    "    # However, if target_residue is not found, then raise ERROR:\n",
    "    if target_residue is None:\n",
    "        raise ValueError(f\"Aspartate residue at position {residue_position} not found in the protein structure.\")\n",
    "\n",
    "    # Now, load the ligand SDF file:\n",
    "    ligands = Chem.SDMolSupplier(sdf_file)\n",
    "    print(f\"There are {len(ligands)} poses in the SDF file\")\n",
    "    valid_poses = []\n",
    "\n",
    "    # Check which ligand poses form the salt bridge, and save those who do in valid_poses[]\n",
    "    for ligand in ligands:\n",
    "            \n",
    "        distance, is_true = is_salt_bridge(target_residue, ligand)\n",
    "        \n",
    "        if is_true:\n",
    "                valid_poses.append(ligand)\n",
    "                ligand.SetProp(\"SD\", str(distance)) #Adding the SD tag to the output SDF file\n",
    "    \n",
    "    # Save poses that form the salt bridge\n",
    "    writer = Chem.SDWriter(output_file)\n",
    "    \n",
    "    for ligand in valid_poses:\n",
    "        writer.write(ligand)\n",
    "    \n",
    "    writer.close()"
   ]
  },
  {
   "cell_type": "markdown",
   "metadata": {},
   "source": [
    "### Step 4: Execute the code by calling the functions and save the output"
   ]
  },
  {
   "cell_type": "code",
   "execution_count": 4,
   "metadata": {},
   "outputs": [
    {
     "name": "stdout",
     "output_type": "stream",
     "text": [
      "There are 414 poses in the SDF file\n"
     ]
    }
   ],
   "source": [
    "# Give paths to the input files:\n",
    "\n",
    "pdb_file = \"data/protein_6a93.pdb\"\n",
    "sdf_file = \"data/ligands_5ht2a.sdf\"\n",
    "output_file = \"data/valid_poses.sdf\"\n",
    "residue_position = 155  # Change this to the desired position\n",
    "\n",
    "# Execute the code by calling the function and passing the parameters\n",
    "filter_ligand_poses(pdb_file, sdf_file, output_file, residue_position)"
   ]
  },
  {
   "cell_type": "markdown",
   "metadata": {},
   "source": [
    "### Final Step 5: Analyse the output:"
   ]
  },
  {
   "cell_type": "code",
   "execution_count": 5,
   "metadata": {},
   "outputs": [
    {
     "name": "stdout",
     "output_type": "stream",
     "text": [
      "There are 25 poses that form salt bridge with the ASP155\n"
     ]
    }
   ],
   "source": [
    "output = Chem.SDMolSupplier(\"data/valid_poses.sdf\")\n",
    "print(f\"There are {len(output)} poses that form salt bridge with the ASP155\")"
   ]
  },
  {
   "cell_type": "code",
   "execution_count": null,
   "metadata": {},
   "outputs": [],
   "source": []
  }
 ],
 "metadata": {
  "kernelspec": {
   "display_name": "rdkit310",
   "language": "python",
   "name": "python3"
  },
  "language_info": {
   "codemirror_mode": {
    "name": "ipython",
    "version": 3
   },
   "file_extension": ".py",
   "mimetype": "text/x-python",
   "name": "python",
   "nbconvert_exporter": "python",
   "pygments_lexer": "ipython3",
   "version": "3.10.0"
  }
 },
 "nbformat": 4,
 "nbformat_minor": 2
}
