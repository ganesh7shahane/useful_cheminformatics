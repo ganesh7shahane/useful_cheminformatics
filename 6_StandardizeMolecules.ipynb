{
 "cells": [
  {
   "cell_type": "markdown",
   "metadata": {},
   "source": [
    "# Standardize and Clean molecules \n",
    "\n",
    "The following function will get a dataset ready for training a Generative AI model"
   ]
  },
  {
   "cell_type": "code",
   "execution_count": 4,
   "metadata": {},
   "outputs": [
    {
     "name": "stdout",
     "output_type": "stream",
     "text": [
      "I am RDKit version: 2023.09.5\n",
      "I am python version 3.12.2 (main, Feb 11 2024, 00:01:24) [Clang 15.0.0 (clang-1500.1.0.2.5)]\n"
     ]
    }
   ],
   "source": [
    "from rdkit import Chem\n",
    "import pandas as pd\n",
    "\n",
    "import rdkit\n",
    "print(f\"I am RDKit version: {rdkit.__version__}\")\n",
    "import sys\n",
    "print(f\"I am python version {sys.version}\")"
   ]
  },
  {
   "cell_type": "markdown",
   "metadata": {},
   "source": [
    "### Detect invalid SMILES:\n",
    "\n",
    "Many a times, smiles generated from AI models or obtained by any other means might have an invalid syntax. This is some code I found useful to detect and filter out such smiles from a dataframe:"
   ]
  },
  {
   "cell_type": "code",
   "execution_count": 5,
   "metadata": {},
   "outputs": [
    {
     "name": "stdout",
     "output_type": "stream",
     "text": [
      "There are 1971 in the dataframe, some of which are faulty\n"
     ]
    },
    {
     "data": {
      "text/html": [
       "<div>\n",
       "<style scoped>\n",
       "    .dataframe tbody tr th:only-of-type {\n",
       "        vertical-align: middle;\n",
       "    }\n",
       "\n",
       "    .dataframe tbody tr th {\n",
       "        vertical-align: top;\n",
       "    }\n",
       "\n",
       "    .dataframe thead th {\n",
       "        text-align: right;\n",
       "    }\n",
       "</style>\n",
       "<table border=\"1\" class=\"dataframe\">\n",
       "  <thead>\n",
       "    <tr style=\"text-align: right;\">\n",
       "      <th></th>\n",
       "      <th>Item Name</th>\n",
       "      <th>M.w.</th>\n",
       "      <th>Solvent</th>\n",
       "      <th>Formula</th>\n",
       "      <th>SMILES</th>\n",
       "      <th>Solubility</th>\n",
       "      <th>Form</th>\n",
       "      <th>Pathway</th>\n",
       "      <th>Target</th>\n",
       "      <th>Information</th>\n",
       "      <th>URL</th>\n",
       "      <th>Unnamed: 11</th>\n",
       "      <th>Unnamed: 12</th>\n",
       "      <th>Unnamed: 13</th>\n",
       "      <th>Unnamed: 14</th>\n",
       "    </tr>\n",
       "  </thead>\n",
       "  <tbody>\n",
       "    <tr>\n",
       "      <th>0</th>\n",
       "      <td>Angiotensin II</td>\n",
       "      <td>1046.2</td>\n",
       "      <td>H2O</td>\n",
       "      <td>C50H71N13O12</td>\n",
       "      <td>CCC(C)C(C(=O)NC(CC1=CN=CN1)C(=O)N2CCCC2C(=O)NC...</td>\n",
       "      <td>?100.2mg/mL in H2O, &lt;2.09mg/mL in DMSO</td>\n",
       "      <td>NaN</td>\n",
       "      <td>Cardiovascular</td>\n",
       "      <td>Angiotensin Receptor</td>\n",
       "      <td>NaN</td>\n",
       "      <td>http://www.apexbt.com/search.php?catalog=A1042</td>\n",
       "      <td>NaN</td>\n",
       "      <td>NaN</td>\n",
       "      <td>NaN</td>\n",
       "      <td>NaN</td>\n",
       "    </tr>\n",
       "    <tr>\n",
       "      <th>1</th>\n",
       "      <td>Levetiracetam</td>\n",
       "      <td>170.21</td>\n",
       "      <td>DMSO</td>\n",
       "      <td>C8H14N2O2</td>\n",
       "      <td>CCC(C(=O)N)N1CCCC1=O</td>\n",
       "      <td>&gt;8.5mg/mL in DMSO</td>\n",
       "      <td>Free Base</td>\n",
       "      <td>Membrane Transporter/Ion Channel</td>\n",
       "      <td>Calcium Channel</td>\n",
       "      <td>Antiepileptic drug</td>\n",
       "      <td>http://www.apexbt.com/search.php?catalog=A1198</td>\n",
       "      <td>NaN</td>\n",
       "      <td>NaN</td>\n",
       "      <td>NaN</td>\n",
       "      <td>NaN</td>\n",
       "    </tr>\n",
       "    <tr>\n",
       "      <th>2</th>\n",
       "      <td>Daptomycin</td>\n",
       "      <td>1620.67</td>\n",
       "      <td>DMSO</td>\n",
       "      <td>C72H101N17O26</td>\n",
       "      <td>CCCCCCCCCC(=O)NC(CC1=CNC2=CC=CC=C21)C(=O)NC(CC...</td>\n",
       "      <td>&gt;81.1mg/mL in DMSO</td>\n",
       "      <td>Free Base</td>\n",
       "      <td>DNA Damage/DNA Repair</td>\n",
       "      <td>DNA Synthesis</td>\n",
       "      <td>Calcium-dependent antibiotic</td>\n",
       "      <td>http://www.apexbt.com/search.php?catalog=A1206</td>\n",
       "      <td>NaN</td>\n",
       "      <td>NaN</td>\n",
       "      <td>NaN</td>\n",
       "      <td>NaN</td>\n",
       "    </tr>\n",
       "  </tbody>\n",
       "</table>\n",
       "</div>"
      ],
      "text/plain": [
       "        Item Name     M.w. Solvent        Formula  \\\n",
       "0  Angiotensin II   1046.2     H2O   C50H71N13O12   \n",
       "1   Levetiracetam   170.21    DMSO      C8H14N2O2   \n",
       "2      Daptomycin  1620.67    DMSO  C72H101N17O26   \n",
       "\n",
       "                                              SMILES  \\\n",
       "0  CCC(C)C(C(=O)NC(CC1=CN=CN1)C(=O)N2CCCC2C(=O)NC...   \n",
       "1                               CCC(C(=O)N)N1CCCC1=O   \n",
       "2  CCCCCCCCCC(=O)NC(CC1=CNC2=CC=CC=C21)C(=O)NC(CC...   \n",
       "\n",
       "                               Solubility       Form  \\\n",
       "0  ?100.2mg/mL in H2O, <2.09mg/mL in DMSO        NaN   \n",
       "1                       >8.5mg/mL in DMSO  Free Base   \n",
       "2                      >81.1mg/mL in DMSO  Free Base   \n",
       "\n",
       "                            Pathway                Target  \\\n",
       "0                    Cardiovascular  Angiotensin Receptor   \n",
       "1  Membrane Transporter/Ion Channel       Calcium Channel   \n",
       "2             DNA Damage/DNA Repair         DNA Synthesis   \n",
       "\n",
       "                    Information  \\\n",
       "0                           NaN   \n",
       "1            Antiepileptic drug   \n",
       "2  Calcium-dependent antibiotic   \n",
       "\n",
       "                                              URL  Unnamed: 11  Unnamed: 12  \\\n",
       "0  http://www.apexbt.com/search.php?catalog=A1042          NaN          NaN   \n",
       "1  http://www.apexbt.com/search.php?catalog=A1198          NaN          NaN   \n",
       "2  http://www.apexbt.com/search.php?catalog=A1206          NaN          NaN   \n",
       "\n",
       "   Unnamed: 13  Unnamed: 14  \n",
       "0          NaN          NaN  \n",
       "1          NaN          NaN  \n",
       "2          NaN          NaN  "
      ]
     },
     "execution_count": 5,
     "metadata": {},
     "output_type": "execute_result"
    }
   ],
   "source": [
    "# Consider a sample dataframe, containing some faulty smiles:\n",
    "\n",
    "data = pd.read_csv(\"data/test_molecules.csv\")\n",
    "print(f\"There are {data.shape[0]} in the dataframe, some of which are faulty\")\n",
    "\n",
    "data.head(3)"
   ]
  },
  {
   "cell_type": "markdown",
   "metadata": {},
   "source": [
    "Question is, how do we detect and remove them?\n",
    "\n",
    "Use the following function:"
   ]
  },
  {
   "cell_type": "code",
   "execution_count": 6,
   "metadata": {},
   "outputs": [
    {
     "name": "stderr",
     "output_type": "stream",
     "text": [
      "[17:57:25] SMILES Parse Error: syntax error while parsing: C[C@]1(O)CO[C@H](O[C@H]2[C@H](N)C[C@H](N)[C@@H](O[C@H]3O[C@@]([H])([C@@H](C)NC)CC[C@H]3N)[C@@H]2O)[C@H](O)[C@H]1NC.C[C@]4(O)CO[C@H](O[C@H]5[C@H](N)C[C@H](N)[C@@H](O[C@H]6O[C@H](CN)CC[C@H]6N)[C@@H]5O)[C@H](O)[C@H]4NC.C[C@]7(O)CO[C@H](O[C@H]8[C@H](N)C[C@H](\n",
      "[17:57:25] SMILES Parse Error: Failed parsing SMILES 'C[C@]1(O)CO[C@H](O[C@H]2[C@H](N)C[C@H](N)[C@@H](O[C@H]3O[C@@]([H])([C@@H](C)NC)CC[C@H]3N)[C@@H]2O)[C@H](O)[C@H]1NC.C[C@]4(O)CO[C@H](O[C@H]5[C@H](N)C[C@H](N)[C@@H](O[C@H]6O[C@H](CN)CC[C@H]6N)[C@@H]5O)[C@H](O)[C@H]4NC.C[C@]7(O)CO[C@H](O[C@H]8[C@H](N)C[C@H](' for input: 'C[C@]1(O)CO[C@H](O[C@H]2[C@H](N)C[C@H](N)[C@@H](O[C@H]3O[C@@]([H])([C@@H](C)NC)CC[C@H]3N)[C@@H]2O)[C@H](O)[C@H]1NC.C[C@]4(O)CO[C@H](O[C@H]5[C@H](N)C[C@H](N)[C@@H](O[C@H]6O[C@H](CN)CC[C@H]6N)[C@@H]5O)[C@H](O)[C@H]4NC.C[C@]7(O)CO[C@H](O[C@H]8[C@H](N)C[C@H]('\n",
      "[17:57:25] SMILES Parse Error: syntax error while parsing: CC(O)=O.CC.CC.CCccC.[R].[P].[2H].[L].[E].[P].[P].[Y].[3H].[G].[KH].[R].[R].[Y].F.[Y].[*].[L].F.[V].[Y].[G].[G].[R].[KH].[R].N.N.F.[KH].S.[*].[2H].[R].[G].[G].[*].[KH].[*].[3H].C.[*].F.[P].[*].I.I.N.[Q].[3H].[M]\n",
      "[17:57:25] SMILES Parse Error: Failed parsing SMILES 'CC(O)=O.CC.CC.CCccC.[R].[P].[2H].[L].[E].[P].[P].[Y].[3H].[G].[KH].[R].[R].[Y].F.[Y].[*].[L].F.[V].[Y].[G].[G].[R].[KH].[R].N.N.F.[KH].S.[*].[2H].[R].[G].[G].[*].[KH].[*].[3H].C.[*].F.[P].[*].I.I.N.[Q].[3H].[M]' for input: 'CC(O)=O.CC.CC.CCccC.[R].[P].[2H].[L].[E].[P].[P].[Y].[3H].[G].[KH].[R].[R].[Y].F.[Y].[*].[L].F.[V].[Y].[G].[G].[R].[KH].[R].N.N.F.[KH].S.[*].[2H].[R].[G].[G].[*].[KH].[*].[3H].C.[*].F.[P].[*].I.I.N.[Q].[3H].[M]'\n",
      "[17:57:25] SMILES Parse Error: extra open parentheses for input: 'CC/N=C(O)/[C@]1([H])CCCN1C([C@](/N=C(O)/[C@](/N=C(O)/[C@@](/N=C(O)/[C@](/N=C(O)/[C@](/N=C(O)/[C@](/N=C(O)/[C@](/N=C(O)/C2([H])CCC(O)=N2)([H])CC3=CN=CN3)([H])CC4=CNC5=CC=CC=C45)([H])CO)([H])CC6=CC=C(O)C=C6)([H])C)([H])CC(C)C)([H])CCCNC(N)=N)=O.CC(O)=O.CC(O'\n",
      "[17:57:25] SMILES Parse Error: syntax error while parsing: CC[C@]([C@@](/N=C(O)/[C@](/N=C(O)/[C@](/N=C(O)/[C@](/N=C(O)/[C@](/N=C(O)/C/N=C(O)/[C@](/N=C(O)/C/N=C(O)/C/N=C(O)/C/N=C(O)/C/N=C(O)/[C@]1([H])CCCN1C([C@](/N=C(O)/[C@]2([H])CCCN2C([C@@](N)([H])CC3=CC=CC=C3)=O)([H])CCCNC(N)=N)=O)([H])CC(O)=N)([H])CC(O)=O)([H\n",
      "[17:57:25] SMILES Parse Error: Failed parsing SMILES 'CC[C@]([C@@](/N=C(O)/[C@](/N=C(O)/[C@](/N=C(O)/[C@](/N=C(O)/[C@](/N=C(O)/C/N=C(O)/[C@](/N=C(O)/C/N=C(O)/C/N=C(O)/C/N=C(O)/C/N=C(O)/[C@]1([H])CCCN1C([C@](/N=C(O)/[C@]2([H])CCCN2C([C@@](N)([H])CC3=CC=CC=C3)=O)([H])CCCNC(N)=N)=O)([H])CC(O)=N)([H])CC(O)=O)([H' for input: 'CC[C@]([C@@](/N=C(O)/[C@](/N=C(O)/[C@](/N=C(O)/[C@](/N=C(O)/[C@](/N=C(O)/C/N=C(O)/[C@](/N=C(O)/C/N=C(O)/C/N=C(O)/C/N=C(O)/C/N=C(O)/[C@]1([H])CCCN1C([C@](/N=C(O)/[C@]2([H])CCCN2C([C@@](N)([H])CC3=CC=CC=C3)=O)([H])CCCNC(N)=N)=O)([H])CC(O)=N)([H])CC(O)=O)([H'\n",
      "[17:57:25] SMILES Parse Error: syntax error while parsing: CC([C@@](/N=C(OC)\\O)([H])C(N1CC2(C[C@@]1([H])C3=NC=C(N3)C4=CC5=C(C6=C(C5(F)F)C=C(C7=CC(N8)=C(N=C8[C@]9([H])[C@@]%1\n",
      "[17:57:25] SMILES Parse Error: Failed parsing SMILES 'CC([C@@](/N=C(OC)\\O)([H])C(N1CC2(C[C@@]1([H])C3=NC=C(N3)C4=CC5=C(C6=C(C5(F)F)C=C(C7=CC(N8)=C(N=C8[C@]9([H])[C@@]%1' for input: 'CC([C@@](/N=C(OC)\\O)([H])C(N1CC2(C[C@@]1([H])C3=NC=C(N3)C4=CC5=C(C6=C(C5(F)F)C=C(C7=CC(N8)=C(N=C8[C@]9([H])[C@@]%1'\n",
      "[17:57:25] WARNING: not removing hydrogen atom without neighbors\n",
      "[17:57:25] WARNING: not removing hydrogen atom without neighbors\n",
      "[17:57:26] SMILES Parse Error: extra open parentheses for input: 'CC1=C(N=C(N=C1N)C(CC(=O)N)NCC(C(=O)N)N)C(=O)NC(C(C2=CN=CN2)OC3C(C(C(C(O3)CO)O)O)OC4C(C(C(C(O4)CO)O)OC4C(C(C(C(O4)CO)O)OC(=O)N)O)C(=O)NC(C)C(C(C)C(=O)NC(C(C)O)C(=O)NCCC5=NC(=CS5)C6=NC(=CS6)C(=O)NCCC[S+](C)C)O.OS(=O)(=O)[O-]'\n",
      "[17:57:26] SMILES Parse Error: syntax error while parsing: O=C([C@]([H])(C)NC([C@](N)([H])CNC1=O)=O)N[C@@]([H])(CNC(CC(CCCN)N)=O)C(NC(C(N[C@@]1([H])[C@@H]2CCNC(N)=N2)=O)=CNC(N)=O)=O.[xH2SO4]\n",
      "[17:57:26] SMILES Parse Error: Failed parsing SMILES 'O=C([C@]([H])(C)NC([C@](N)([H])CNC1=O)=O)N[C@@]([H])(CNC(CC(CCCN)N)=O)C(NC(C(N[C@@]1([H])[C@@H]2CCNC(N)=N2)=O)=CNC(N)=O)=O.[xH2SO4]' for input: 'O=C([C@]([H])(C)NC([C@](N)([H])CNC1=O)=O)N[C@@]([H])(CNC(CC(CCCN)N)=O)C(NC(C(N[C@@]1([H])[C@@H]2CCNC(N)=N2)=O)=CNC(N)=O)=O.[xH2SO4]'\n",
      "[17:57:26] SMILES Parse Error: syntax error while parsing: O=C1N(C(C([O-])=O)=C2CSC(N(C)N=C3[O-])=NC3=O)[C@H](SC2)[C@@H]1NC(/C(C4=CSC(N)=N4)=N\\OC)=O.[Na+].[Na+].[3.5H2O]\n",
      "[17:57:26] SMILES Parse Error: Failed parsing SMILES 'O=C1N(C(C([O-])=O)=C2CSC(N(C)N=C3[O-])=NC3=O)[C@H](SC2)[C@@H]1NC(/C(C4=CSC(N)=N4)=N\\OC)=O.[Na+].[Na+].[3.5H2O]' for input: 'O=C1N(C(C([O-])=O)=C2CSC(N(C)N=C3[O-])=NC3=O)[C@H](SC2)[C@@H]1NC(/C(C4=CSC(N)=N4)=N\\OC)=O.[Na+].[Na+].[3.5H2O]'\n",
      "[17:57:26] SMILES Parse Error: extra open parentheses for input: 'O=C([C@H](CCN)NC([C@H](CC(C)C)NC([C@@H](CC(C)C)NC([C@H](CCN)NC([C@@H](NC([C@@H](NC([C@@H](NC([C@H](CCN)NC(CCCC(CC)C)=O)=O)[C@H](O)C)=O)CCN)=O)CCN1)=O)=O)=O)=O)N[C@@H](CCN)C(N[C@@H]([C@H](O)C)C1=O)=O.O=S(O)(O)=O.O=S(O)(O)=O.O=S(O)(O)=O.O=S(O)(O)=O.O=S(O)(O'\n",
      "[17:57:26] SMILES Parse Error: syntax error while parsing: O=C(OCC)[C@@H](C)C[C@@H](NC(CCC([O-])=O)=O)CC1=CC=C(C2=CC=CC=C2)C=C1.[0.5Ca2+]\n",
      "[17:57:26] SMILES Parse Error: Failed parsing SMILES 'O=C(OCC)[C@@H](C)C[C@@H](NC(CCC([O-])=O)=O)CC1=CC=C(C2=CC=CC=C2)C=C1.[0.5Ca2+]' for input: 'O=C(OCC)[C@@H](C)C[C@@H](NC(CCC([O-])=O)=O)CC1=CC=C(C2=CC=CC=C2)C=C1.[0.5Ca2+]'\n",
      "[17:57:26] SMILES Parse Error: syntax error while parsing: O=C([C@@](C([H])([H])C1=C([H])N([H])C2=C([H])C([H])=C([H])C([H])=C12)([H])N([H])C([C@@](C([H])([H])C(O[H])=O)([H])N([H])C(C([H])([H])N([H])C3=O)=O)=O)N4[C@@](C(N([H])[C@@](C(N([H])[H])=O)([H])C([H])([H])SSC([H])([H])C([H])([H])C(N([H])[C@@]3([H])C([H])([H\n",
      "[17:57:26] SMILES Parse Error: Failed parsing SMILES 'O=C([C@@](C([H])([H])C1=C([H])N([H])C2=C([H])C([H])=C([H])C([H])=C12)([H])N([H])C([C@@](C([H])([H])C(O[H])=O)([H])N([H])C(C([H])([H])N([H])C3=O)=O)=O)N4[C@@](C(N([H])[C@@](C(N([H])[H])=O)([H])C([H])([H])SSC([H])([H])C([H])([H])C(N([H])[C@@]3([H])C([H])([H' for input: 'O=C([C@@](C([H])([H])C1=C([H])N([H])C2=C([H])C([H])=C([H])C([H])=C12)([H])N([H])C([C@@](C([H])([H])C(O[H])=O)([H])N([H])C(C([H])([H])N([H])C3=O)=O)=O)N4[C@@](C(N([H])[C@@](C(N([H])[H])=O)([H])C([H])([H])SSC([H])([H])C([H])([H])C(N([H])[C@@]3([H])C([H])([H'\n",
      "[17:57:26] SMILES Parse Error: syntax error while parsing: CCCCC(N([C@@](C([O-])=O)([H])C(C)C)CC1=CC=C(C2=CC=CC=C2C3=N[N-]N=N3)C=C1)=O.CCOC([C@](C[C@@](/N=C([O-])/CCC([O-])=O)([H])CC4=CC=C(C5=CC=CC=C5)C=C4)([H])C)=O.[3Na+].[2.5H2O]\n",
      "[17:57:26] SMILES Parse Error: Failed parsing SMILES 'CCCCC(N([C@@](C([O-])=O)([H])C(C)C)CC1=CC=C(C2=CC=CC=C2C3=N[N-]N=N3)C=C1)=O.CCOC([C@](C[C@@](/N=C([O-])/CCC([O-])=O)([H])CC4=CC=C(C5=CC=CC=C5)C=C4)([H])C)=O.[3Na+].[2.5H2O]' for input: 'CCCCC(N([C@@](C([O-])=O)([H])C(C)C)CC1=CC=C(C2=CC=CC=C2C3=N[N-]N=N3)C=C1)=O.CCOC([C@](C[C@@](/N=C([O-])/CCC([O-])=O)([H])CC4=CC=C(C5=CC=CC=C5)C=C4)([H])C)=O.[3Na+].[2.5H2O]'\n"
     ]
    }
   ],
   "source": [
    "df_smiles = data['SMILES']\n",
    "\n",
    "ok_smiles = []\n",
    "delete_smiles = [] #faulty smiles will be collected in this list\n",
    "\n",
    "i=0\n",
    "\n",
    "for ds in df_smiles:\n",
    "    \n",
    "    try:\n",
    "        cs = Chem.CanonSmiles(ds) #Use the CanonSmiles() function to check if rdkit can process the smiles successfully. If not, then the smiles is faulty\n",
    "        ok_smiles.append(cs)\n",
    "        i=i+1\n",
    "    \n",
    "    except:\n",
    "        #print(i, 'Invalid SMILES:', ds)\n",
    "        delete_smiles.append(ds)\n",
    "        #print(\"\")\n",
    "#print()"
   ]
  },
  {
   "cell_type": "code",
   "execution_count": 7,
   "metadata": {},
   "outputs": [
    {
     "name": "stdout",
     "output_type": "stream",
     "text": [
      "Turns out there are 14 problematic smiles in the dataframe\n"
     ]
    }
   ],
   "source": [
    "print(f\"Turns out there are {len(delete_smiles)} problematic smiles in the dataframe\")"
   ]
  },
  {
   "cell_type": "code",
   "execution_count": 8,
   "metadata": {},
   "outputs": [],
   "source": [
    "# Remove these 14 smiles from the dataframe:\n",
    "\n",
    "new_data = data[~data['SMILES'].isin(delete_smiles)]"
   ]
  },
  {
   "cell_type": "code",
   "execution_count": 9,
   "metadata": {},
   "outputs": [
    {
     "name": "stdout",
     "output_type": "stream",
     "text": [
      "Now the dataframe contains 1957 smiles, instead of 1971 smiles\n"
     ]
    }
   ],
   "source": [
    "print(f\"Now the dataframe contains {new_data.shape[0]} smiles, instead of {data.shape[0]} smiles\")"
   ]
  },
  {
   "cell_type": "markdown",
   "metadata": {},
   "source": [
    "### Standardize and Clean molecules:"
   ]
  },
  {
   "cell_type": "code",
   "execution_count": 10,
   "metadata": {},
   "outputs": [],
   "source": [
    "#This function is taken from: https://bitsilla.com/blog/2021/06/standardizing-a-molecule-using-rdkit/\n",
    "from rdkit.Chem.MolStandardize import rdMolStandardize\n",
    "\n",
    "def standardize(smiles):\n",
    "    # follows the steps in\n",
    "    # https://github.com/greglandrum/RSC_OpenScience_Standardization_202104/blob/main/MolStandardize%20pieces.ipynb\n",
    "    # as described **excellently** (by Greg) in\n",
    "    # https://www.youtube.com/watch?v=eWTApNX8dJQ\n",
    "    # We are putting this code in a try except as we would want to clean all molecules even if some smiles in between might throw and error\n",
    "    \n",
    "    \n",
    "    try:\n",
    "        mol = Chem.MolFromSmiles(smiles)\n",
    "     \n",
    "        # removeHs, disconnect metal atoms, normalize the molecule, reionize the molecule!!!!!\n",
    "        clean_mol = rdMolStandardize.Cleanup(mol) \n",
    "     \n",
    "        # if many fragments, get the \"parent\" (the actual mol we are interested in) \n",
    "        parent_clean_mol = rdMolStandardize.FragmentParent(clean_mol)\n",
    "         \n",
    "        # try to neutralize molecule\n",
    "        uncharger = rdMolStandardize.Uncharger() # annoying, but necessary as no convenience method exists\n",
    "        uncharged_parent_clean_mol = uncharger.uncharge(parent_clean_mol)\n",
    "     \n",
    "        # note that no attempt is made at reionization at this step\n",
    "        # nor at ionization at some pH (rdkit has no pKa caculator)\n",
    "        # the main aim to to represent all molecules from different sources\n",
    "        # in a (single) standard way, for use in ML, catalogue, etc.\n",
    "     \n",
    "        te = rdMolStandardize.TautomerEnumerator() # idem\n",
    "        taut_uncharged_parent_clean_mol = te.Canonicalize(uncharged_parent_clean_mol)\n",
    "    \n",
    "        Chem.RemoveStereochemistry(taut_uncharged_parent_clean_mol)\n",
    "     \n",
    "        #return taut_uncharged_parent_clean_mol\n",
    "        return Chem.MolToSmiles(taut_uncharged_parent_clean_mol)\n",
    "    \n",
    "    except:\n",
    "        failed_smiles.append(smiles)\n",
    "        return \"None\"\n",
    "    \n",
    "    #Running the above function on 2.37 million molecules took 1076 minutes"
   ]
  },
  {
   "cell_type": "code",
   "execution_count": 11,
   "metadata": {},
   "outputs": [
    {
     "name": "stderr",
     "output_type": "stream",
     "text": [
      "[17:57:26] Initializing MetalDisconnector\n",
      "[17:57:26] Running MetalDisconnector\n",
      "[17:57:26] Initializing Normalizer\n",
      "[17:57:26] Running Normalizer\n",
      "[17:57:26] Rule applied: P+N to P=N+\n",
      "[17:57:26] Initializing MetalDisconnector\n",
      "[17:57:26] Running MetalDisconnector\n",
      "[17:57:26] Initializing Normalizer\n",
      "[17:57:26] Running Normalizer\n",
      "[17:57:26] Running LargestFragmentChooser\n",
      "[17:57:26] Running Uncharger\n",
      "[17:57:26] Removed positive charge.\n"
     ]
    },
    {
     "data": {
      "text/plain": [
       "'CCP(C)(=N)N'"
      ]
     },
     "execution_count": 11,
     "metadata": {},
     "output_type": "execute_result"
    }
   ],
   "source": [
    "#To clean a single molecule:\n",
    "\n",
    "standardize(\"C[P+](CC)(N)N\")"
   ]
  },
  {
   "cell_type": "markdown",
   "metadata": {},
   "source": [
    "Try it on a dataframe:"
   ]
  },
  {
   "cell_type": "code",
   "execution_count": 12,
   "metadata": {},
   "outputs": [
    {
     "name": "stderr",
     "output_type": "stream",
     "text": [
      "[17:57:26] Initializing MetalDisconnector\n",
      "[17:57:26] Running MetalDisconnector\n",
      "[17:57:26] Initializing Normalizer\n",
      "[17:57:26] Running Normalizer\n",
      "[17:57:26] Initializing MetalDisconnector\n",
      "[17:57:26] Running MetalDisconnector\n",
      "[17:57:26] Initializing Normalizer\n",
      "[17:57:26] Running Normalizer\n",
      "[17:57:26] Running LargestFragmentChooser\n",
      "[17:57:26] Fragment: O=C([O-])c1ccccc1\n",
      "[17:57:26] New largest fragment: O=C([O-])c1ccccc1 (14)\n",
      "[17:57:26] Fragment: [Na+]\n",
      "[17:57:26] Running Uncharger\n",
      "[17:57:26] Removed negative charge.\n",
      "[17:57:26] Initializing MetalDisconnector\n",
      "[17:57:26] Running MetalDisconnector\n",
      "[17:57:26] Initializing Normalizer\n",
      "[17:57:26] Running Normalizer\n",
      "[17:57:26] Initializing MetalDisconnector\n",
      "[17:57:26] Running MetalDisconnector\n",
      "[17:57:26] Initializing Normalizer\n",
      "[17:57:26] Running Normalizer\n",
      "[17:57:26] Running LargestFragmentChooser\n",
      "[17:57:26] Fragment: O=C1[C@H](CC[C@H](O)c2ccc(F)cc2)[C@@H](c2ccc(O)cc2)N1c1ccc(F)cc1\n",
      "[17:57:26] New largest fragment: O=C1[C@H](CC[C@H](O)c2ccc(F)cc2)[C@@H](c2ccc(O)cc2)N1c1ccc(F)cc1 (51)\n",
      "[17:57:26] Fragment: c1ccccc1\n",
      "[17:57:26] Running Uncharger\n"
     ]
    },
    {
     "data": {
      "text/html": [
       "<div>\n",
       "<style scoped>\n",
       "    .dataframe tbody tr th:only-of-type {\n",
       "        vertical-align: middle;\n",
       "    }\n",
       "\n",
       "    .dataframe tbody tr th {\n",
       "        vertical-align: top;\n",
       "    }\n",
       "\n",
       "    .dataframe thead th {\n",
       "        text-align: right;\n",
       "    }\n",
       "</style>\n",
       "<table border=\"1\" class=\"dataframe\">\n",
       "  <thead>\n",
       "    <tr style=\"text-align: right;\">\n",
       "      <th></th>\n",
       "      <th>smiles</th>\n",
       "      <th>clean_smiles</th>\n",
       "    </tr>\n",
       "  </thead>\n",
       "  <tbody>\n",
       "    <tr>\n",
       "      <th>0</th>\n",
       "      <td>c1ccccc1C(=O)[O-].[Na+]</td>\n",
       "      <td>O=C(O)c1ccccc1</td>\n",
       "    </tr>\n",
       "    <tr>\n",
       "      <th>1</th>\n",
       "      <td>O=C1[C@H](CC[C@H](O)c2ccc(F)cc2)[C@@H](c2ccc(O...</td>\n",
       "      <td>O=C1C(CCC(O)c2ccc(F)cc2)C(c2ccc(O)cc2)N1c1ccc(...</td>\n",
       "    </tr>\n",
       "  </tbody>\n",
       "</table>\n",
       "</div>"
      ],
      "text/plain": [
       "                                              smiles  \\\n",
       "0                            c1ccccc1C(=O)[O-].[Na+]   \n",
       "1  O=C1[C@H](CC[C@H](O)c2ccc(F)cc2)[C@@H](c2ccc(O...   \n",
       "\n",
       "                                        clean_smiles  \n",
       "0                                     O=C(O)c1ccccc1  \n",
       "1  O=C1C(CCC(O)c2ccc(F)cc2)C(c2ccc(O)cc2)N1c1ccc(...  "
      ]
     },
     "execution_count": 12,
     "metadata": {},
     "output_type": "execute_result"
    }
   ],
   "source": [
    "import pandas as pd\n",
    "\n",
    "smi = {'smiles': ['c1ccccc1C(=O)[O-].[Na+]', 'O=C1[C@H](CC[C@H](O)c2ccc(F)cc2)[C@@H](c2ccc(O)cc2)N1c1ccc(F)cc1.c1ccccc1']}\n",
    "da = pd.DataFrame(data=smi)\n",
    "\n",
    "da['clean_smiles'] = da['smiles'].apply(standardize)\n",
    "da"
   ]
  }
 ],
 "metadata": {
  "kernelspec": {
   "display_name": "rdkit",
   "language": "python",
   "name": "python3"
  },
  "language_info": {
   "codemirror_mode": {
    "name": "ipython",
    "version": 3
   },
   "file_extension": ".py",
   "mimetype": "text/x-python",
   "name": "python",
   "nbconvert_exporter": "python",
   "pygments_lexer": "ipython3",
   "version": "3.12.2"
  }
 },
 "nbformat": 4,
 "nbformat_minor": 2
}
