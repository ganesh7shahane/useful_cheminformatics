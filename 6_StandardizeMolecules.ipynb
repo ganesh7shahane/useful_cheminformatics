{
 "cells": [
  {
   "cell_type": "markdown",
   "metadata": {},
   "source": [
    "# Standardize and Clean molecules \n",
    "\n",
    "The following function will get a dataset ready for training a Generative AI model"
   ]
  },
  {
   "cell_type": "code",
   "execution_count": 3,
   "metadata": {},
   "outputs": [],
   "source": [
    "from rdkit import Chem"
   ]
  },
  {
   "cell_type": "code",
   "execution_count": 1,
   "metadata": {},
   "outputs": [],
   "source": [
    "#This function is taken from: https://bitsilla.com/blog/2021/06/standardizing-a-molecule-using-rdkit/\n",
    "from rdkit.Chem.MolStandardize import rdMolStandardize\n",
    "\n",
    "def standardize(smiles):\n",
    "    # follows the steps in\n",
    "    # https://github.com/greglandrum/RSC_OpenScience_Standardization_202104/blob/main/MolStandardize%20pieces.ipynb\n",
    "    # as described **excellently** (by Greg) in\n",
    "    # https://www.youtube.com/watch?v=eWTApNX8dJQ\n",
    "    mol = Chem.MolFromSmiles(smiles)\n",
    "     \n",
    "    # removeHs, disconnect metal atoms, normalize the molecule, reionize the molecule\n",
    "    clean_mol = rdMolStandardize.Cleanup(mol) \n",
    "     \n",
    "    # if many fragments, get the \"parent\" (the actual mol we are interested in) \n",
    "    parent_clean_mol = rdMolStandardize.FragmentParent(clean_mol)\n",
    "         \n",
    "    # try to neutralize molecule\n",
    "    uncharger = rdMolStandardize.Uncharger() # annoying, but necessary as no convenience method exists\n",
    "    uncharged_parent_clean_mol = uncharger.uncharge(parent_clean_mol)\n",
    "     \n",
    "    # note that no attempt is made at reionization at this step\n",
    "    # nor at ionization at some pH (rdkit has no pKa caculator)\n",
    "    # the main aim to to represent all molecules from different sources\n",
    "    # in a (single) standard way, for use in ML, catalogue, etc.\n",
    "     \n",
    "    te = rdMolStandardize.TautomerEnumerator() # idem\n",
    "    taut_uncharged_parent_clean_mol = te.Canonicalize(uncharged_parent_clean_mol)\n",
    "     \n",
    "    #return taut_uncharged_parent_clean_mol\n",
    "    return Chem.MolToSmiles(taut_uncharged_parent_clean_mol)"
   ]
  },
  {
   "cell_type": "code",
   "execution_count": 5,
   "metadata": {},
   "outputs": [
    {
     "name": "stderr",
     "output_type": "stream",
     "text": [
      "[16:58:30] Initializing MetalDisconnector\n",
      "[16:58:30] Running MetalDisconnector\n",
      "[16:58:30] Initializing Normalizer\n",
      "[16:58:30] Running Normalizer\n",
      "[16:58:30] Rule applied: P+N to P=N+\n",
      "[16:58:30] Initializing MetalDisconnector\n",
      "[16:58:30] Running MetalDisconnector\n",
      "[16:58:30] Initializing Normalizer\n",
      "[16:58:30] Running Normalizer\n",
      "[16:58:30] Running LargestFragmentChooser\n",
      "[16:58:30] Running Uncharger\n",
      "[16:58:30] Removed positive charge.\n"
     ]
    },
    {
     "data": {
      "text/plain": [
       "'CCP(C)(=N)N'"
      ]
     },
     "execution_count": 5,
     "metadata": {},
     "output_type": "execute_result"
    }
   ],
   "source": [
    "#To clean a single molecule:\n",
    "\n",
    "standardize(\"C[P+](CC)(N)N\")"
   ]
  },
  {
   "cell_type": "markdown",
   "metadata": {},
   "source": [
    "Try it on a dataframe:"
   ]
  },
  {
   "cell_type": "code",
   "execution_count": 7,
   "metadata": {},
   "outputs": [],
   "source": [
    "import pandas as pd\n",
    "\n",
    "smi = {'smiles': ['c1ccccc1C(=O)[O-].[Na+]', 'O=C1[C@H](CC[C@H](O)c2ccc(F)cc2)[C@@H](c2ccc(O)cc2)N1c1ccc(F)cc1.c1ccccc1']}\n",
    "da = pd.DataFrame(data=smi)"
   ]
  },
  {
   "cell_type": "markdown",
   "metadata": {},
   "source": [
    "#### Sometimes, removing stereochemistry can be useful:"
   ]
  },
  {
   "cell_type": "code",
   "execution_count": 9,
   "metadata": {},
   "outputs": [],
   "source": [
    "def removeStereo(smiles):\n",
    "    m = Chem.MolFromSmiles(smiles)\n",
    "    Chem.RemoveStereochemistry(m)\n",
    "    return Chem.MolToSmiles(m)"
   ]
  },
  {
   "cell_type": "code",
   "execution_count": 10,
   "metadata": {},
   "outputs": [
    {
     "data": {
      "text/plain": [
       "'C=CCOC1CC(C(=O)OC(C)(C)C)C1'"
      ]
     },
     "execution_count": 10,
     "metadata": {},
     "output_type": "execute_result"
    }
   ],
   "source": [
    "#Consider an example smiles:\n",
    "removeStereo('C=CCO[C@H]1C[C@@H](C(=O)OC(C)(C)C)C1')"
   ]
  }
 ],
 "metadata": {
  "kernelspec": {
   "display_name": "rdkit",
   "language": "python",
   "name": "python3"
  },
  "language_info": {
   "codemirror_mode": {
    "name": "ipython",
    "version": 3
   },
   "file_extension": ".py",
   "mimetype": "text/x-python",
   "name": "python",
   "nbconvert_exporter": "python",
   "pygments_lexer": "ipython3",
   "version": "3.12.2"
  }
 },
 "nbformat": 4,
 "nbformat_minor": 2
}
