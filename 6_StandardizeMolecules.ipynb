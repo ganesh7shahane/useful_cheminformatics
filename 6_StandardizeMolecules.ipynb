{
 "cells": [
  {
   "cell_type": "markdown",
   "metadata": {},
   "source": [
    "# Standardize and Clean molecules \n",
    "\n",
    "The following function will get a dataset ready for training a Generative AI model"
   ]
  },
  {
   "cell_type": "code",
   "execution_count": 11,
   "metadata": {},
   "outputs": [],
   "source": [
    "from rdkit import Chem"
   ]
  },
  {
   "cell_type": "code",
   "execution_count": 12,
   "metadata": {},
   "outputs": [],
   "source": [
    "#This function is taken from: https://bitsilla.com/blog/2021/06/standardizing-a-molecule-using-rdkit/\n",
    "from rdkit.Chem.MolStandardize import rdMolStandardize\n",
    "\n",
    "def standardize(smiles):\n",
    "    # follows the steps in\n",
    "    # https://github.com/greglandrum/RSC_OpenScience_Standardization_202104/blob/main/MolStandardize%20pieces.ipynb\n",
    "    # as described **excellently** (by Greg) in\n",
    "    # https://www.youtube.com/watch?v=eWTApNX8dJQ\n",
    "    # We are putting this code in a try except as we would want to clean all molecules even if some smiles in between might throw and error\n",
    "    \n",
    "    \n",
    "    try:\n",
    "        mol = Chem.MolFromSmiles(smiles)\n",
    "     \n",
    "        # removeHs, disconnect metal atoms, normalize the molecule, reionize the molecule!!!!!\n",
    "        clean_mol = rdMolStandardize.Cleanup(mol) \n",
    "     \n",
    "        # if many fragments, get the \"parent\" (the actual mol we are interested in) \n",
    "        parent_clean_mol = rdMolStandardize.FragmentParent(clean_mol)\n",
    "         \n",
    "        # try to neutralize molecule\n",
    "        uncharger = rdMolStandardize.Uncharger() # annoying, but necessary as no convenience method exists\n",
    "        uncharged_parent_clean_mol = uncharger.uncharge(parent_clean_mol)\n",
    "     \n",
    "        # note that no attempt is made at reionization at this step\n",
    "        # nor at ionization at some pH (rdkit has no pKa caculator)\n",
    "        # the main aim to to represent all molecules from different sources\n",
    "        # in a (single) standard way, for use in ML, catalogue, etc.\n",
    "     \n",
    "        te = rdMolStandardize.TautomerEnumerator() # idem\n",
    "        taut_uncharged_parent_clean_mol = te.Canonicalize(uncharged_parent_clean_mol)\n",
    "    \n",
    "        Chem.RemoveStereochemistry(taut_uncharged_parent_clean_mol)\n",
    "     \n",
    "        #return taut_uncharged_parent_clean_mol\n",
    "        return Chem.MolToSmiles(taut_uncharged_parent_clean_mol)\n",
    "    \n",
    "    except:\n",
    "        failed_smiles.append(smiles)\n",
    "        return \"None\"\n",
    "    \n",
    "    #Running the above function on 2.37 million molecules took 1076 minutes"
   ]
  },
  {
   "cell_type": "code",
   "execution_count": 13,
   "metadata": {},
   "outputs": [
    {
     "name": "stderr",
     "output_type": "stream",
     "text": [
      "[11:29:57] Initializing MetalDisconnector\n",
      "[11:29:57] Running MetalDisconnector\n",
      "[11:29:57] Initializing Normalizer\n",
      "[11:29:57] Running Normalizer\n",
      "[11:29:57] Rule applied: P+N to P=N+\n",
      "[11:29:57] Initializing MetalDisconnector\n",
      "[11:29:57] Running MetalDisconnector\n",
      "[11:29:57] Initializing Normalizer\n",
      "[11:29:57] Running Normalizer\n",
      "[11:29:57] Running LargestFragmentChooser\n",
      "[11:29:57] Running Uncharger\n",
      "[11:29:57] Removed positive charge.\n"
     ]
    },
    {
     "data": {
      "text/plain": [
       "'CCP(C)(=N)N'"
      ]
     },
     "execution_count": 13,
     "metadata": {},
     "output_type": "execute_result"
    }
   ],
   "source": [
    "#To clean a single molecule:\n",
    "\n",
    "standardize(\"C[P+](CC)(N)N\")"
   ]
  },
  {
   "cell_type": "markdown",
   "metadata": {},
   "source": [
    "Try it on a dataframe:"
   ]
  },
  {
   "cell_type": "code",
   "execution_count": 17,
   "metadata": {},
   "outputs": [
    {
     "name": "stderr",
     "output_type": "stream",
     "text": [
      "[11:31:18] Initializing MetalDisconnector\n",
      "[11:31:18] Running MetalDisconnector\n",
      "[11:31:18] Initializing Normalizer\n",
      "[11:31:18] Running Normalizer\n",
      "[11:31:18] Initializing MetalDisconnector\n",
      "[11:31:18] Running MetalDisconnector\n",
      "[11:31:18] Initializing Normalizer\n",
      "[11:31:18] Running Normalizer\n",
      "[11:31:18] Running LargestFragmentChooser\n",
      "[11:31:18] Fragment: O=C([O-])c1ccccc1\n",
      "[11:31:18] New largest fragment: O=C([O-])c1ccccc1 (14)\n",
      "[11:31:18] Fragment: [Na+]\n",
      "[11:31:18] Running Uncharger\n",
      "[11:31:18] Removed negative charge.\n",
      "[11:31:18] Initializing MetalDisconnector\n",
      "[11:31:18] Running MetalDisconnector\n",
      "[11:31:18] Initializing Normalizer\n",
      "[11:31:18] Running Normalizer\n",
      "[11:31:18] Initializing MetalDisconnector\n",
      "[11:31:18] Running MetalDisconnector\n",
      "[11:31:18] Initializing Normalizer\n",
      "[11:31:18] Running Normalizer\n",
      "[11:31:18] Running LargestFragmentChooser\n",
      "[11:31:18] Fragment: O=C1[C@H](CC[C@H](O)c2ccc(F)cc2)[C@@H](c2ccc(O)cc2)N1c1ccc(F)cc1\n",
      "[11:31:18] New largest fragment: O=C1[C@H](CC[C@H](O)c2ccc(F)cc2)[C@@H](c2ccc(O)cc2)N1c1ccc(F)cc1 (51)\n",
      "[11:31:18] Fragment: c1ccccc1\n",
      "[11:31:18] Running Uncharger\n"
     ]
    },
    {
     "data": {
      "text/html": [
       "<div>\n",
       "<style scoped>\n",
       "    .dataframe tbody tr th:only-of-type {\n",
       "        vertical-align: middle;\n",
       "    }\n",
       "\n",
       "    .dataframe tbody tr th {\n",
       "        vertical-align: top;\n",
       "    }\n",
       "\n",
       "    .dataframe thead th {\n",
       "        text-align: right;\n",
       "    }\n",
       "</style>\n",
       "<table border=\"1\" class=\"dataframe\">\n",
       "  <thead>\n",
       "    <tr style=\"text-align: right;\">\n",
       "      <th></th>\n",
       "      <th>smiles</th>\n",
       "      <th>clean_smiles</th>\n",
       "    </tr>\n",
       "  </thead>\n",
       "  <tbody>\n",
       "    <tr>\n",
       "      <th>0</th>\n",
       "      <td>c1ccccc1C(=O)[O-].[Na+]</td>\n",
       "      <td>O=C(O)c1ccccc1</td>\n",
       "    </tr>\n",
       "    <tr>\n",
       "      <th>1</th>\n",
       "      <td>O=C1[C@H](CC[C@H](O)c2ccc(F)cc2)[C@@H](c2ccc(O...</td>\n",
       "      <td>O=C1C(CCC(O)c2ccc(F)cc2)C(c2ccc(O)cc2)N1c1ccc(...</td>\n",
       "    </tr>\n",
       "  </tbody>\n",
       "</table>\n",
       "</div>"
      ],
      "text/plain": [
       "                                              smiles  \\\n",
       "0                            c1ccccc1C(=O)[O-].[Na+]   \n",
       "1  O=C1[C@H](CC[C@H](O)c2ccc(F)cc2)[C@@H](c2ccc(O...   \n",
       "\n",
       "                                        clean_smiles  \n",
       "0                                     O=C(O)c1ccccc1  \n",
       "1  O=C1C(CCC(O)c2ccc(F)cc2)C(c2ccc(O)cc2)N1c1ccc(...  "
      ]
     },
     "execution_count": 17,
     "metadata": {},
     "output_type": "execute_result"
    }
   ],
   "source": [
    "import pandas as pd\n",
    "\n",
    "smi = {'smiles': ['c1ccccc1C(=O)[O-].[Na+]', 'O=C1[C@H](CC[C@H](O)c2ccc(F)cc2)[C@@H](c2ccc(O)cc2)N1c1ccc(F)cc1.c1ccccc1']}\n",
    "da = pd.DataFrame(data=smi)\n",
    "\n",
    "da['clean_smiles'] = da['smiles'].apply(standardize)\n",
    "da"
   ]
  }
 ],
 "metadata": {
  "kernelspec": {
   "display_name": "rdkit",
   "language": "python",
   "name": "python3"
  },
  "language_info": {
   "codemirror_mode": {
    "name": "ipython",
    "version": 3
   },
   "file_extension": ".py",
   "mimetype": "text/x-python",
   "name": "python",
   "nbconvert_exporter": "python",
   "pygments_lexer": "ipython3",
   "version": "3.12.2"
  }
 },
 "nbformat": 4,
 "nbformat_minor": 2
}
