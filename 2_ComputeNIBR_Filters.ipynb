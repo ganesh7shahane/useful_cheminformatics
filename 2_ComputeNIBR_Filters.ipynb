{
 "cells": [
  {
   "cell_type": "markdown",
   "metadata": {},
   "source": [
    "# Calculate NIBR filters\n",
    "\n",
    "If you have worked in the field of drug design, many a times you will often end up designing molecules with unwanted substructures especially when using any of the generative algorithms out there.\n",
    "\n",
    "Fortunately, RDKit has NIBR filters embedded in it which enables users to filter out such compounds.\n",
    "\n",
    "This is inspired and taken from https://github.com/rdkit/rdkit/tree/master/Contrib/NIBRSubstructureFilters and\n",
    "https://iwatobipen.wordpress.com/2021/03/20/novartiss-molecular-filter-for-hit-triage-chemoinformatics-rdkit/"
   ]
  },
  {
   "cell_type": "code",
   "execution_count": 7,
   "metadata": {},
   "outputs": [],
   "source": [
    "# Import all libraries:\n",
    "\n",
    "import os\n",
    "import sys\n",
    "import pandas as pd\n",
    "from rdkit.Chem import Draw\n",
    "from rdkit.Chem import RDConfig\n",
    "from rdkit.Chem import FilterCatalog\n",
    "from rdkit.Chem import PandasTools\n",
    "from rdkit.Chem import RDConfig\n",
    "from rdkit.Chem.Draw import IPythonConsole\n",
    "from rdkit.Chem import rdDepictor\n",
    "rdDepictor.SetPreferCoordGen(True)\n",
    "from IPython import display\n",
    "basedir = os.path.join(RDConfig.RDContribDir, 'NIBRSubstructureFilters')\n",
    "\n",
    "sys.path.append(basedir)\n",
    "\n",
    "import assignSubstructureFilters"
   ]
  },
  {
   "cell_type": "code",
   "execution_count": 8,
   "metadata": {},
   "outputs": [],
   "source": [
    "# Now copy this block of function:\n",
    "\n",
    "def buildFilterCatalog():\n",
    "\n",
    "    inhousefilter = pd.read_csv(f'{basedir}/SubstructureFilter_HitTriaging_wPubChemExamples.csv')\n",
    "    inhouseFiltersCat = FilterCatalog.FilterCatalog()\n",
    "    for i in range(inhousefilter.shape[0]):\n",
    "        mincount=1\n",
    "        if inhousefilter['MIN_COUNT'][i] != 0:\n",
    "            mincount = int(inhousefilter['MIN_COUNT'][i]) \n",
    "        pname = inhousefilter['PATTERN_NAME'][i]\n",
    "        sname = inhousefilter['SET_NAME'][i]\n",
    "        pname_final='{0}_min({1})__{2}__{3}__{4}'.format(pname,mincount,\n",
    "                                                    inhousefilter['SEVERITY_SCORE'][i],\n",
    "                                                    inhousefilter['COVALENT'][i],\n",
    "                                                    inhousefilter['SPECIAL_MOL'][i])\n",
    "        fil = FilterCatalog.SmartsMatcher(pname_final,inhousefilter['SMARTS'][i], mincount)\n",
    "        inhouseFiltersCat.AddEntry(FilterCatalog.FilterCatalogEntry(pname_final,fil))\n",
    "        inhouseFiltersCat.GetEntry(i).SetProp('Scope', sname)\n",
    "    return inhouseFiltersCat"
   ]
  },
  {
   "cell_type": "code",
   "execution_count": 9,
   "metadata": {},
   "outputs": [
    {
     "name": "stdout",
     "output_type": "stream",
     "text": [
      "The dataframe consists of 19 molecules\n"
     ]
    },
    {
     "data": {
      "text/html": [
       "<div>\n",
       "<style scoped>\n",
       "    .dataframe tbody tr th:only-of-type {\n",
       "        vertical-align: middle;\n",
       "    }\n",
       "\n",
       "    .dataframe tbody tr th {\n",
       "        vertical-align: top;\n",
       "    }\n",
       "\n",
       "    .dataframe thead th {\n",
       "        text-align: right;\n",
       "    }\n",
       "</style>\n",
       "<table border=\"1\" class=\"dataframe\">\n",
       "  <thead>\n",
       "    <tr style=\"text-align: right;\">\n",
       "      <th></th>\n",
       "      <th>Smiles</th>\n",
       "      <th>Energy (-315001)</th>\n",
       "      <th>Vector</th>\n",
       "    </tr>\n",
       "  </thead>\n",
       "  <tbody>\n",
       "    <tr>\n",
       "      <th>0</th>\n",
       "      <td>c1(C)c(COS(=O)(=O)NC)c(c2cc(COC(F)(F)F)cc3cNcc...</td>\n",
       "      <td>-315180</td>\n",
       "      <td>[5, 27, 15, 9, 11, 4, 4, 4]</td>\n",
       "    </tr>\n",
       "    <tr>\n",
       "      <th>1</th>\n",
       "      <td>c1(C(F)(F)F)c(COS(=O)(=O)NC)c(c2cc(COCF)cc(O)c...</td>\n",
       "      <td>-315177</td>\n",
       "      <td>[5, 17, 15, 15, 7, 4, 4, 5]</td>\n",
       "    </tr>\n",
       "    <tr>\n",
       "      <th>2</th>\n",
       "      <td>c1(N(C)C)c(COS(=O)(=O)NC)c(C2C(CC(=O)CC(F)(F)F...</td>\n",
       "      <td>-315172</td>\n",
       "      <td>[5, 13, 11, 6, 11, 4, 4, 9]</td>\n",
       "    </tr>\n",
       "  </tbody>\n",
       "</table>\n",
       "</div>"
      ],
      "text/plain": [
       "                                              Smiles  Energy (-315001)  \\\n",
       "0  c1(C)c(COS(=O)(=O)NC)c(c2cc(COC(F)(F)F)cc3cNcc...           -315180   \n",
       "1  c1(C(F)(F)F)c(COS(=O)(=O)NC)c(c2cc(COCF)cc(O)c...           -315177   \n",
       "2  c1(N(C)C)c(COS(=O)(=O)NC)c(C2C(CC(=O)CC(F)(F)F...           -315172   \n",
       "\n",
       "                        Vector  \n",
       "0  [5, 27, 15, 9, 11, 4, 4, 4]  \n",
       "1  [5, 17, 15, 15, 7, 4, 4, 5]  \n",
       "2  [5, 13, 11, 6, 11, 4, 4, 9]  "
      ]
     },
     "execution_count": 9,
     "metadata": {},
     "output_type": "execute_result"
    }
   ],
   "source": [
    "# Import a sample dataset containing a SMILES column:\n",
    "\n",
    "df = pd.read_csv(\"data/DA_list.csv\")\n",
    "print(f\"The dataframe consists of {df.shape[0]} molecules\")\n",
    "df.head(3)"
   ]
  },
  {
   "cell_type": "code",
   "execution_count": 10,
   "metadata": {},
   "outputs": [],
   "source": [
    "# And these lines of code will score the smiles and merge the resulting dataframe with the one above:\n",
    "\n",
    "assignSubstructureFilters.buildFilterCatalog = buildFilterCatalog\n",
    "\n",
    "res = assignSubstructureFilters.assignFilters(data=df, nameSmilesColumn='Smiles')\n",
    "\n",
    "dfres = pd.DataFrame.from_records(res, columns=assignSubstructureFilters.FilterMatch._fields)\n",
    "\n",
    "alldata = df.merge(dfres, how='left', left_index=True, right_index=True)"
   ]
  },
  {
   "cell_type": "code",
   "execution_count": 11,
   "metadata": {},
   "outputs": [
    {
     "data": {
      "text/html": [
       "<div>\n",
       "<style scoped>\n",
       "    .dataframe tbody tr th:only-of-type {\n",
       "        vertical-align: middle;\n",
       "    }\n",
       "\n",
       "    .dataframe tbody tr th {\n",
       "        vertical-align: top;\n",
       "    }\n",
       "\n",
       "    .dataframe thead th {\n",
       "        text-align: right;\n",
       "    }\n",
       "</style>\n",
       "<table border=\"1\" class=\"dataframe\">\n",
       "  <thead>\n",
       "    <tr style=\"text-align: right;\">\n",
       "      <th></th>\n",
       "      <th>Smiles</th>\n",
       "      <th>Energy (-315001)</th>\n",
       "      <th>Vector</th>\n",
       "      <th>SubstructureMatches</th>\n",
       "      <th>Min_N_O_filter</th>\n",
       "      <th>Frac_N_O</th>\n",
       "      <th>Covalent</th>\n",
       "      <th>SpecialMol</th>\n",
       "      <th>SeverityScore</th>\n",
       "    </tr>\n",
       "  </thead>\n",
       "  <tbody>\n",
       "    <tr>\n",
       "      <th>0</th>\n",
       "      <td>c1(C)c(COS(=O)(=O)NC)c(c2cc(COC(F)(F)F)cc3cNcc...</td>\n",
       "      <td>-315180</td>\n",
       "      <td>[5, 27, 15, 9, 11, 4, 4, 4]</td>\n",
       "      <td>NIBR_Screeningdeck_2019_SO3_groups_min(1)</td>\n",
       "      <td>no match</td>\n",
       "      <td>0.242424</td>\n",
       "      <td>0</td>\n",
       "      <td>0</td>\n",
       "      <td>10</td>\n",
       "    </tr>\n",
       "    <tr>\n",
       "      <th>1</th>\n",
       "      <td>c1(C(F)(F)F)c(COS(=O)(=O)NC)c(c2cc(COCF)cc(O)c...</td>\n",
       "      <td>-315177</td>\n",
       "      <td>[5, 17, 15, 15, 7, 4, 4, 5]</td>\n",
       "      <td>NIBR_Screeningdeck_2019_alpha_halo_heteroatom_...</td>\n",
       "      <td>no match</td>\n",
       "      <td>0.250000</td>\n",
       "      <td>0</td>\n",
       "      <td>0</td>\n",
       "      <td>10</td>\n",
       "    </tr>\n",
       "    <tr>\n",
       "      <th>2</th>\n",
       "      <td>c1(N(C)C)c(COS(=O)(=O)NC)c(C2C(CC(=O)CC(F)(F)F...</td>\n",
       "      <td>-315172</td>\n",
       "      <td>[5, 13, 11, 6, 11, 4, 4, 9]</td>\n",
       "      <td>NIBR_Screeningdeck_2019_SO3_groups_min(1)</td>\n",
       "      <td>no match</td>\n",
       "      <td>0.281250</td>\n",
       "      <td>0</td>\n",
       "      <td>0</td>\n",
       "      <td>10</td>\n",
       "    </tr>\n",
       "  </tbody>\n",
       "</table>\n",
       "</div>"
      ],
      "text/plain": [
       "                                              Smiles  Energy (-315001)  \\\n",
       "0  c1(C)c(COS(=O)(=O)NC)c(c2cc(COC(F)(F)F)cc3cNcc...           -315180   \n",
       "1  c1(C(F)(F)F)c(COS(=O)(=O)NC)c(c2cc(COCF)cc(O)c...           -315177   \n",
       "2  c1(N(C)C)c(COS(=O)(=O)NC)c(C2C(CC(=O)CC(F)(F)F...           -315172   \n",
       "\n",
       "                        Vector  \\\n",
       "0  [5, 27, 15, 9, 11, 4, 4, 4]   \n",
       "1  [5, 17, 15, 15, 7, 4, 4, 5]   \n",
       "2  [5, 13, 11, 6, 11, 4, 4, 9]   \n",
       "\n",
       "                                 SubstructureMatches Min_N_O_filter  Frac_N_O  \\\n",
       "0          NIBR_Screeningdeck_2019_SO3_groups_min(1)       no match  0.242424   \n",
       "1  NIBR_Screeningdeck_2019_alpha_halo_heteroatom_...       no match  0.250000   \n",
       "2          NIBR_Screeningdeck_2019_SO3_groups_min(1)       no match  0.281250   \n",
       "\n",
       "   Covalent  SpecialMol  SeverityScore  \n",
       "0         0           0             10  \n",
       "1         0           0             10  \n",
       "2         0           0             10  "
      ]
     },
     "execution_count": 11,
     "metadata": {},
     "output_type": "execute_result"
    }
   ],
   "source": [
    "# Now let's look at what the output looks like:\n",
    "\n",
    "alldata.head(3)"
   ]
  },
  {
   "cell_type": "markdown",
   "metadata": {},
   "source": [
    "#### This is how to interprete the computed scores:\n",
    "\n",
    "__SubstructureMatches:__ the names of all filters that match the compound\n",
    "\n",
    "__Min_N_O_filter:__ tests if no nitrogen or oxygen atom is contained in the molecule\n",
    "\n",
    "__Frac_N_O:__ fraction of nitrogen and oxygen atoms compared to all heavy atoms\n",
    "\n",
    "__Covalent:__ number of potentially covalent motifs contained in the compound\n",
    "\n",
    "__SpecialMol:__ is the compound/parts of the compound belonging to a special class of molecules like peptides, glycosides, fatty acid,...\n",
    "\n",
    "__SeverityScore:__ 0 -> compound has no flags, might have annotations; 1-9 number of flags the compound raises; >= 10 exclusion criterion for our newly designed screening deck"
   ]
  },
  {
   "cell_type": "code",
   "execution_count": null,
   "metadata": {},
   "outputs": [],
   "source": []
  }
 ],
 "metadata": {
  "kernelspec": {
   "display_name": "rdkit",
   "language": "python",
   "name": "python3"
  },
  "language_info": {
   "codemirror_mode": {
    "name": "ipython",
    "version": 3
   },
   "file_extension": ".py",
   "mimetype": "text/x-python",
   "name": "python",
   "nbconvert_exporter": "python",
   "pygments_lexer": "ipython3",
   "version": "3.12.2"
  }
 },
 "nbformat": 4,
 "nbformat_minor": 2
}
