{
 "cells": [
  {
   "cell_type": "markdown",
   "metadata": {},
   "source": [
    "# Compute fingerprint similarity between a reference molecule and all those within a dataframe"
   ]
  },
  {
   "cell_type": "code",
   "execution_count": 15,
   "metadata": {},
   "outputs": [],
   "source": [
    "import pandas as pd\n",
    "from rdkit import Chem\n",
    "from rdkit import DataStructs\n",
    "from rdkit.Chem import AllChem"
   ]
  },
  {
   "cell_type": "code",
   "execution_count": 12,
   "metadata": {},
   "outputs": [],
   "source": [
    "def compute_fp_similarity(reference_smiles, df, smiles_column='smiles', similarity_column='fp_similarity'):\n",
    "    \"\"\"\n",
    "    Computes fingerprint similarity of the reference molecule with all molecules in the DataFrame.\n",
    "\n",
    "    Args:\n",
    "        reference_smiles (str): SMILES string of the reference molecule.\n",
    "        df (pd.DataFrame): DataFrame containing a 'smiles' column with SMILES strings.\n",
    "        smiles_column (str): Name of the column containing SMILES strings (default: 'smiles').\n",
    "        similarity_column (str): Name of the new column to store similarity scores (default: 'similarity').\n",
    "\n",
    "    Returns:\n",
    "        pd.DataFrame: DataFrame with an additional column containing similarity scores.\n",
    "    \"\"\"\n",
    "    reference_mol = Chem.MolFromSmiles(reference_smiles)\n",
    "    \n",
    "    #check if reference smiles is valid:\n",
    "    if reference_mol is None:\n",
    "        raise ValueError(\"Invalid reference molecule SMILES.\")\n",
    "\n",
    "    # Compute Morgan fingerprints for the reference molecule\n",
    "    reference_fp = AllChem.GetMorganFingerprintAsBitVect(reference_mol, 2, nBits=2048)\n",
    "\n",
    "    def compute_single_similarity(smiles):\n",
    "        \n",
    "        mol = Chem.MolFromSmiles(smiles)\n",
    "        \n",
    "        if mol is None:\n",
    "            return None\n",
    "        \n",
    "        mol_fp = AllChem.GetMorganFingerprintAsBitVect(mol, 2, nBits=2048)\n",
    "        similarity = DataStructs.TanimotoSimilarity(reference_fp, mol_fp)\n",
    "        return similarity\n",
    "\n",
    "    # Compute similarity for each SMILES\n",
    "    df[similarity_column] = df[smiles_column].apply(compute_single_similarity)\n",
    "    return df"
   ]
  },
  {
   "cell_type": "code",
   "execution_count": 13,
   "metadata": {},
   "outputs": [],
   "source": [
    "smiles_df = pd.DataFrame({'smiles': ['CCO', 'C1CCCC1', 'CNC']})\n",
    "\n",
    "# Specify the reference molecule SMILES\n",
    "my_reference = 'CCO'  # Example: Ethanol\n",
    "\n",
    "# Compute similarity and add a new column\n",
    "result_df = compute_fp_similarity(my_reference, smiles_df)"
   ]
  },
  {
   "cell_type": "code",
   "execution_count": 14,
   "metadata": {},
   "outputs": [
    {
     "data": {
      "text/html": [
       "<div>\n",
       "<style scoped>\n",
       "    .dataframe tbody tr th:only-of-type {\n",
       "        vertical-align: middle;\n",
       "    }\n",
       "\n",
       "    .dataframe tbody tr th {\n",
       "        vertical-align: top;\n",
       "    }\n",
       "\n",
       "    .dataframe thead th {\n",
       "        text-align: right;\n",
       "    }\n",
       "</style>\n",
       "<table border=\"1\" class=\"dataframe\">\n",
       "  <thead>\n",
       "    <tr style=\"text-align: right;\">\n",
       "      <th></th>\n",
       "      <th>smiles</th>\n",
       "      <th>fp_similarity</th>\n",
       "    </tr>\n",
       "  </thead>\n",
       "  <tbody>\n",
       "    <tr>\n",
       "      <th>0</th>\n",
       "      <td>CCO</td>\n",
       "      <td>1.000000</td>\n",
       "    </tr>\n",
       "    <tr>\n",
       "      <th>1</th>\n",
       "      <td>C1CCCC1</td>\n",
       "      <td>0.000000</td>\n",
       "    </tr>\n",
       "    <tr>\n",
       "      <th>2</th>\n",
       "      <td>CNC</td>\n",
       "      <td>0.111111</td>\n",
       "    </tr>\n",
       "  </tbody>\n",
       "</table>\n",
       "</div>"
      ],
      "text/plain": [
       "    smiles  fp_similarity\n",
       "0      CCO       1.000000\n",
       "1  C1CCCC1       0.000000\n",
       "2      CNC       0.111111"
      ]
     },
     "execution_count": 14,
     "metadata": {},
     "output_type": "execute_result"
    }
   ],
   "source": [
    "result_df"
   ]
  },
  {
   "cell_type": "code",
   "execution_count": null,
   "metadata": {},
   "outputs": [],
   "source": []
  }
 ],
 "metadata": {
  "kernelspec": {
   "display_name": "rdkit",
   "language": "python",
   "name": "python3"
  },
  "language_info": {
   "codemirror_mode": {
    "name": "ipython",
    "version": 3
   },
   "file_extension": ".py",
   "mimetype": "text/x-python",
   "name": "python",
   "nbconvert_exporter": "python",
   "pygments_lexer": "ipython3",
   "version": "3.12.2"
  }
 },
 "nbformat": 4,
 "nbformat_minor": 2
}
