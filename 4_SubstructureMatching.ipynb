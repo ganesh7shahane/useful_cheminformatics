{
 "cells": [
  {
   "cell_type": "markdown",
   "metadata": {},
   "source": [
    "# Substructure Matching\n",
    "\n",
    "Trying to figure if a substructure is present in one or more molecules is one of the most common filtering steps in cheminformatics.\n",
    "\n",
    "Here, we explore some code snippets that will do substructure matching"
   ]
  },
  {
   "cell_type": "code",
   "execution_count": 33,
   "metadata": {},
   "outputs": [],
   "source": [
    "# Import the necessary libraries\n",
    "\n",
    "import pandas as pd\n",
    "from rdkit import Chem\n",
    "from rdkit.Chem import Descriptors"
   ]
  },
  {
   "cell_type": "code",
   "execution_count": 34,
   "metadata": {},
   "outputs": [
    {
     "data": {
      "text/html": [
       "<div>\n",
       "<style scoped>\n",
       "    .dataframe tbody tr th:only-of-type {\n",
       "        vertical-align: middle;\n",
       "    }\n",
       "\n",
       "    .dataframe tbody tr th {\n",
       "        vertical-align: top;\n",
       "    }\n",
       "\n",
       "    .dataframe thead th {\n",
       "        text-align: right;\n",
       "    }\n",
       "</style>\n",
       "<table border=\"1\" class=\"dataframe\">\n",
       "  <thead>\n",
       "    <tr style=\"text-align: right;\">\n",
       "      <th></th>\n",
       "      <th>SMILES</th>\n",
       "      <th>pKi IC50 Pi3K</th>\n",
       "      <th>pKi IC50 mTor</th>\n",
       "      <th>Water Solubility</th>\n",
       "      <th>Caco2 permeability</th>\n",
       "      <th>CYP1A2 inhibitor</th>\n",
       "      <th>CYP3A4 inhibitor</th>\n",
       "      <th>Total Clearance</th>\n",
       "    </tr>\n",
       "  </thead>\n",
       "  <tbody>\n",
       "    <tr>\n",
       "      <th>0</th>\n",
       "      <td>Cc1ncnc(-c2ccc(cc2)C(=O)N2CCN3CCCCC3C2)c1C#Cc1...</td>\n",
       "      <td>7.091515</td>\n",
       "      <td>7.769551</td>\n",
       "      <td>-3.540</td>\n",
       "      <td>1.377</td>\n",
       "      <td>0.0</td>\n",
       "      <td>1.0</td>\n",
       "      <td>NaN</td>\n",
       "    </tr>\n",
       "    <tr>\n",
       "      <th>1</th>\n",
       "      <td>Cc1ncnc(-c2ccc(cc2)C(C)(C)C#N)c1C#Cc1ccc(N)nc1</td>\n",
       "      <td>7.619789</td>\n",
       "      <td>7.619789</td>\n",
       "      <td>-3.864</td>\n",
       "      <td>1.302</td>\n",
       "      <td>1.0</td>\n",
       "      <td>1.0</td>\n",
       "      <td>0.798</td>\n",
       "    </tr>\n",
       "    <tr>\n",
       "      <th>2</th>\n",
       "      <td>Cc1ncnc(-c2ccc(cc2)S(C)(=O)=O)c1C#Cc1ccc(N)nc1</td>\n",
       "      <td>7.187087</td>\n",
       "      <td>8.096910</td>\n",
       "      <td>-3.535</td>\n",
       "      <td>0.274</td>\n",
       "      <td>1.0</td>\n",
       "      <td>1.0</td>\n",
       "      <td>0.899</td>\n",
       "    </tr>\n",
       "  </tbody>\n",
       "</table>\n",
       "</div>"
      ],
      "text/plain": [
       "                                              SMILES  pKi IC50 Pi3K  \\\n",
       "0  Cc1ncnc(-c2ccc(cc2)C(=O)N2CCN3CCCCC3C2)c1C#Cc1...       7.091515   \n",
       "1     Cc1ncnc(-c2ccc(cc2)C(C)(C)C#N)c1C#Cc1ccc(N)nc1       7.619789   \n",
       "2     Cc1ncnc(-c2ccc(cc2)S(C)(=O)=O)c1C#Cc1ccc(N)nc1       7.187087   \n",
       "\n",
       "   pKi IC50 mTor  Water Solubility  Caco2 permeability  CYP1A2 inhibitor  \\\n",
       "0       7.769551            -3.540               1.377               0.0   \n",
       "1       7.619789            -3.864               1.302               1.0   \n",
       "2       8.096910            -3.535               0.274               1.0   \n",
       "\n",
       "   CYP3A4 inhibitor  Total Clearance  \n",
       "0               1.0              NaN  \n",
       "1               1.0            0.798  \n",
       "2               1.0            0.899  "
      ]
     },
     "execution_count": 34,
     "metadata": {},
     "output_type": "execute_result"
    }
   ],
   "source": [
    "#import a sample dataset containing SMILES:\n",
    "\n",
    "pi3k = pd.read_csv(\"data/FINE_TUNING_pi3k-mtor_objectives.csv\")\n",
    "pi3k.head(3)"
   ]
  },
  {
   "cell_type": "code",
   "execution_count": 35,
   "metadata": {},
   "outputs": [],
   "source": [
    "# Calculate the mol object:\n",
    "\n",
    "pi3k['mol'] = pi3k['SMILES'].apply(lambda x: Descriptors.Chem.MolFromSmiles(x))"
   ]
  },
  {
   "cell_type": "code",
   "execution_count": 36,
   "metadata": {},
   "outputs": [],
   "source": [
    "#Define the pattern we wish to see:\n",
    "pattern = 'c1ccccc1C(=O)N'\n",
    "pattern_mol = Chem.MolFromSmarts('c1ccccc1C(=O)N')\n",
    "\n",
    "#create an empty list to store matched molecules from the dataframe:\n",
    "matches_mol = [] \n",
    "\n",
    "# Define a function to detect the pattern:\n",
    "def sub_match(mol):\n",
    "\n",
    "    if mol.HasSubstructMatch(pattern_mol) == True:\n",
    "        \n",
    "        matches_mol.append(Chem.MolToSmiles(mol))\n",
    "        return \"True\"\n",
    "    \n",
    "    else:\n",
    "        return \"False\""
   ]
  },
  {
   "cell_type": "code",
   "execution_count": 37,
   "metadata": {},
   "outputs": [],
   "source": [
    "pi3k['sub_present?'] = pi3k['mol'].apply(lambda x: sub_match(x))"
   ]
  },
  {
   "cell_type": "code",
   "execution_count": 38,
   "metadata": {},
   "outputs": [
    {
     "data": {
      "text/html": [
       "<div>\n",
       "<style scoped>\n",
       "    .dataframe tbody tr th:only-of-type {\n",
       "        vertical-align: middle;\n",
       "    }\n",
       "\n",
       "    .dataframe tbody tr th {\n",
       "        vertical-align: top;\n",
       "    }\n",
       "\n",
       "    .dataframe thead th {\n",
       "        text-align: right;\n",
       "    }\n",
       "</style>\n",
       "<table border=\"1\" class=\"dataframe\">\n",
       "  <thead>\n",
       "    <tr style=\"text-align: right;\">\n",
       "      <th></th>\n",
       "      <th>SMILES</th>\n",
       "      <th>pKi IC50 Pi3K</th>\n",
       "      <th>pKi IC50 mTor</th>\n",
       "      <th>Water Solubility</th>\n",
       "      <th>Caco2 permeability</th>\n",
       "      <th>CYP1A2 inhibitor</th>\n",
       "      <th>CYP3A4 inhibitor</th>\n",
       "      <th>Total Clearance</th>\n",
       "      <th>mol</th>\n",
       "      <th>sub_present?</th>\n",
       "    </tr>\n",
       "  </thead>\n",
       "  <tbody>\n",
       "    <tr>\n",
       "      <th>0</th>\n",
       "      <td>Cc1ncnc(-c2ccc(cc2)C(=O)N2CCN3CCCCC3C2)c1C#Cc1...</td>\n",
       "      <td>7.091515</td>\n",
       "      <td>7.769551</td>\n",
       "      <td>-3.540</td>\n",
       "      <td>1.377</td>\n",
       "      <td>0.0</td>\n",
       "      <td>1.0</td>\n",
       "      <td>NaN</td>\n",
       "      <td>&lt;rdkit.Chem.rdchem.Mol object at 0x14038a3b0&gt;</td>\n",
       "      <td>True</td>\n",
       "    </tr>\n",
       "    <tr>\n",
       "      <th>1</th>\n",
       "      <td>Cc1ncnc(-c2ccc(cc2)C(C)(C)C#N)c1C#Cc1ccc(N)nc1</td>\n",
       "      <td>7.619789</td>\n",
       "      <td>7.619789</td>\n",
       "      <td>-3.864</td>\n",
       "      <td>1.302</td>\n",
       "      <td>1.0</td>\n",
       "      <td>1.0</td>\n",
       "      <td>0.798</td>\n",
       "      <td>&lt;rdkit.Chem.rdchem.Mol object at 0x14038a340&gt;</td>\n",
       "      <td>False</td>\n",
       "    </tr>\n",
       "    <tr>\n",
       "      <th>2</th>\n",
       "      <td>Cc1ncnc(-c2ccc(cc2)S(C)(=O)=O)c1C#Cc1ccc(N)nc1</td>\n",
       "      <td>7.187087</td>\n",
       "      <td>8.096910</td>\n",
       "      <td>-3.535</td>\n",
       "      <td>0.274</td>\n",
       "      <td>1.0</td>\n",
       "      <td>1.0</td>\n",
       "      <td>0.899</td>\n",
       "      <td>&lt;rdkit.Chem.rdchem.Mol object at 0x14038a420&gt;</td>\n",
       "      <td>False</td>\n",
       "    </tr>\n",
       "  </tbody>\n",
       "</table>\n",
       "</div>"
      ],
      "text/plain": [
       "                                              SMILES  pKi IC50 Pi3K  \\\n",
       "0  Cc1ncnc(-c2ccc(cc2)C(=O)N2CCN3CCCCC3C2)c1C#Cc1...       7.091515   \n",
       "1     Cc1ncnc(-c2ccc(cc2)C(C)(C)C#N)c1C#Cc1ccc(N)nc1       7.619789   \n",
       "2     Cc1ncnc(-c2ccc(cc2)S(C)(=O)=O)c1C#Cc1ccc(N)nc1       7.187087   \n",
       "\n",
       "   pKi IC50 mTor  Water Solubility  Caco2 permeability  CYP1A2 inhibitor  \\\n",
       "0       7.769551            -3.540               1.377               0.0   \n",
       "1       7.619789            -3.864               1.302               1.0   \n",
       "2       8.096910            -3.535               0.274               1.0   \n",
       "\n",
       "   CYP3A4 inhibitor  Total Clearance  \\\n",
       "0               1.0              NaN   \n",
       "1               1.0            0.798   \n",
       "2               1.0            0.899   \n",
       "\n",
       "                                             mol sub_present?  \n",
       "0  <rdkit.Chem.rdchem.Mol object at 0x14038a3b0>         True  \n",
       "1  <rdkit.Chem.rdchem.Mol object at 0x14038a340>        False  \n",
       "2  <rdkit.Chem.rdchem.Mol object at 0x14038a420>        False  "
      ]
     },
     "execution_count": 38,
     "metadata": {},
     "output_type": "execute_result"
    }
   ],
   "source": [
    "pi3k.head(3)"
   ]
  },
  {
   "cell_type": "markdown",
   "metadata": {},
   "source": [
    "## Visualise:"
   ]
  },
  {
   "cell_type": "markdown",
   "metadata": {},
   "source": [
    "We can see that the first smiles in the dataframe contains the pattern as it is labelled \"True\"\n",
    "\n",
    "Let's visualise them:"
   ]
  },
  {
   "cell_type": "code",
   "execution_count": 39,
   "metadata": {},
   "outputs": [
    {
     "name": "stdout",
     "output_type": "stream",
     "text": [
      "[(8, 7, 6, 11, 10, 9, 12, 13, 14), (9, 8, 7, 6, 11, 10, 12, 13, 14), (8, 7, 6, 11, 10, 9, 12, 13, 14), (8, 7, 6, 11, 10, 9, 12, 13, 14), (8, 7, 6, 11, 10, 9, 12, 13, 14)]\n"
     ]
    }
   ],
   "source": [
    "# First we define the atoms that we wish to highlight\n",
    "\n",
    "highlight_pattern = [mMol.GetSubstructMatch(Chem.MolFromSmiles(pattern)) for mMol in pi3k_true['mol']]\n",
    "#print(highlight_pattern)"
   ]
  },
  {
   "cell_type": "code",
   "execution_count": 40,
   "metadata": {},
   "outputs": [
    {
     "data": {
      "image/png": "[encoded data removed]",
      "text/plain": [
       "<IPython.core.display.Image object>"
      ]
     },
     "execution_count": 40,
     "metadata": {},
     "output_type": "execute_result"
    }
   ],
   "source": [
    "from rdkit.Chem import Draw\n",
    "\n",
    "# Check only the first 5 molecules:\n",
    "pi3k_true = pi3k.loc[pi3k['sub_present?']==\"True\"].head(5)\n",
    "\n",
    "Draw.MolsToGridImage(pi3k_true.mol, molsPerRow=5, highlightAtomLists = highlight_pattern)"
   ]
  },
  {
   "cell_type": "markdown",
   "metadata": {},
   "source": [
    "Let's visualise the pattern in this first molecule, using a higlighter:"
   ]
  },
  {
   "cell_type": "code",
   "execution_count": 41,
   "metadata": {},
   "outputs": [
    {
     "name": "stdout",
     "output_type": "stream",
     "text": [
      "((8, 7, 6, 11, 10, 9, 12, 13, 14),)\n"
     ]
    },
    {
     "data": {
      "image/png": "[encoded data removed]",
      "text/plain": [
       "<rdkit.Chem.rdchem.Mol at 0x130e55d90>"
      ]
     },
     "execution_count": 41,
     "metadata": {},
     "output_type": "execute_result"
    }
   ],
   "source": [
    "from rdkit.Chem.Draw import rdMolDraw2D\n",
    "\n",
    "m = Chem.MolFromSmiles(pi3k.SMILES[0])\n",
    "substructure = Chem.MolFromSmarts('c1ccccc1C(=O)N')\n",
    "\n",
    "#one can also get the atom indices of the pattern in the parent molecule\n",
    "print(m.GetSubstructMatches(substructure))\n",
    "\n",
    "m"
   ]
  },
  {
   "cell_type": "markdown",
   "metadata": {},
   "source": [
    "## Another succint way towards substructure matching as written by Copilot:"
   ]
  },
  {
   "cell_type": "code",
   "execution_count": 42,
   "metadata": {},
   "outputs": [
    {
     "name": "stdout",
     "output_type": "stream",
     "text": [
      "0     True\n",
      "1    False\n",
      "2    False\n",
      "Name: smiles, dtype: bool\n"
     ]
    }
   ],
   "source": [
    "def check_substructure(df, substructure_smiles):\n",
    "    \"\"\"\n",
    "    Checks if SMILES strings in the DataFrame contain the specified substructure.\n",
    "\n",
    "    Args:\n",
    "        df (pd.DataFrame): DataFrame containing a 'smiles' column with SMILES strings.\n",
    "        substructure_smiles (str): SMILES string representing the substructure to search for.\n",
    "\n",
    "    Returns:\n",
    "        pd.Series: A boolean Series indicating whether each SMILES contains the substructure.\n",
    "    \"\"\"\n",
    "    substructure_mol = Chem.MolFromSmiles(substructure_smiles)\n",
    "    if substructure_mol is None:\n",
    "        raise ValueError(\"Invalid substructure SMILES.\")\n",
    "\n",
    "    def has_substructure(smiles):\n",
    "        mol = Chem.MolFromSmiles(smiles)\n",
    "        return mol is not None and mol.HasSubstructMatch(substructure_mol)\n",
    "\n",
    "    return df['smiles'].apply(has_substructure)\n",
    "\n",
    "# Example usage:\n",
    "if __name__ == \"__main__\":\n",
    "    # Load your SMILES data into a pandas DataFrame 'df'\n",
    "    # Assuming 'df' has a column named 'smiles'\n",
    "    smiles_df = pd.DataFrame({'smiles': ['CCO', 'C1CCCC1', 'CNC']})\n",
    "\n",
    "    # Specify the substructure SMILES you want to search for\n",
    "    my_substructure = 'CCO'  # Example: Ethanol\n",
    "\n",
    "    # Check if each SMILES contains the specified substructure\n",
    "    result_series = check_substructure(smiles_df, my_substructure)\n",
    "    print(result_series)\n",
    "    \n",
    "    lldata = smiles_df.merge(pd.DataFrame(result_series), how='left', left_index=True, right_index=True)"
   ]
  },
  {
   "cell_type": "code",
   "execution_count": 43,
   "metadata": {},
   "outputs": [
    {
     "data": {
      "text/html": [
       "<div>\n",
       "<style scoped>\n",
       "    .dataframe tbody tr th:only-of-type {\n",
       "        vertical-align: middle;\n",
       "    }\n",
       "\n",
       "    .dataframe tbody tr th {\n",
       "        vertical-align: top;\n",
       "    }\n",
       "\n",
       "    .dataframe thead th {\n",
       "        text-align: right;\n",
       "    }\n",
       "</style>\n",
       "<table border=\"1\" class=\"dataframe\">\n",
       "  <thead>\n",
       "    <tr style=\"text-align: right;\">\n",
       "      <th></th>\n",
       "      <th>smiles_x</th>\n",
       "      <th>smiles_y</th>\n",
       "    </tr>\n",
       "  </thead>\n",
       "  <tbody>\n",
       "    <tr>\n",
       "      <th>0</th>\n",
       "      <td>CCO</td>\n",
       "      <td>True</td>\n",
       "    </tr>\n",
       "    <tr>\n",
       "      <th>1</th>\n",
       "      <td>C1CCCC1</td>\n",
       "      <td>False</td>\n",
       "    </tr>\n",
       "    <tr>\n",
       "      <th>2</th>\n",
       "      <td>CNC</td>\n",
       "      <td>False</td>\n",
       "    </tr>\n",
       "  </tbody>\n",
       "</table>\n",
       "</div>"
      ],
      "text/plain": [
       "  smiles_x  smiles_y\n",
       "0      CCO      True\n",
       "1  C1CCCC1     False\n",
       "2      CNC     False"
      ]
     },
     "execution_count": 43,
     "metadata": {},
     "output_type": "execute_result"
    }
   ],
   "source": [
    "lldata"
   ]
  }
 ],
 "metadata": {
  "kernelspec": {
   "display_name": "rdkit",
   "language": "python",
   "name": "python3"
  },
  "language_info": {
   "codemirror_mode": {
    "name": "ipython",
    "version": 3
   },
   "file_extension": ".py",
   "mimetype": "text/x-python",
   "name": "python",
   "nbconvert_exporter": "python",
   "pygments_lexer": "ipython3",
   "version": "3.12.2"
  }
 },
 "nbformat": 4,
 "nbformat_minor": 2
}
